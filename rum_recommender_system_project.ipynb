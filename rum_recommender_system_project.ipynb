{
  "cells": [
    {
      "cell_type": "markdown",
      "metadata": {
        "id": "ktxdLosxtgZd"
      },
      "source": [
        "# **Rum Recommender System with Graph Neural Networks using PyG**\n",
        "\n",
        "## Introduction\n",
        "\n",
        "This is a main notebook for the tutorial on applying state-of-the-art graph ML to develop recommender system using the powerful PyG library.\n",
        "\n",
        "In today's digital age, personalized recommendations have become crucial for users to navigate through the vast sea of content that surrounds them. Whether it finds the perfect dish to try or discovers the next great book to read, a well-designed recommender system can make all the difference.\n",
        "\n",
        "And that's where graph ML comes into play. It unlocks new possibilities, allowing us to leverage the data interconnections to create intelligent and tailored recommendations. In this tutorial, we will focus on implementing the LightGCN model for recommending rum and whiskey products for users using PyG.\n",
        "\n",
        "## Credits\n",
        "\n",
        "This project is a part of the core course on Data and Knowledge Representation at Innopolis University.\n",
        "\n",
        "It is a collaborative effort by our team including:\n",
        "\n",
        "- Leila Khaertdinova, l.khaertdinova@innopolis.university, *BS21-DS-02*\n",
        "- Karina Denisova, k.denisova@innopolis.university, *BS21-DS-01*\n",
        "- Ivan Chernakov, i.chernakov@innopolis.university, *BS21-DS-02*\n",
        "\n",
        "\n"
      ]
    },
    {
      "cell_type": "markdown",
      "metadata": {
        "id": "THtNsqnFrKO5"
      },
      "source": [
        "# Device\n",
        "For implementing graph neural networks (GNNs), it is recommended to use a GPU for training. So, in this colab, please click `Runtime` and then `Change runtime type`. Then set the `hardware accelerator` to **GPU**."
      ]
    },
    {
      "cell_type": "code",
      "execution_count": 44,
      "metadata": {
        "colab": {
          "base_uri": "https://localhost:8080/"
        },
        "id": "DqfYgYBes25B",
        "outputId": "71bf519f-182b-4db7-a54b-69f787ba8eaa"
      },
      "outputs": [
        {
          "output_type": "stream",
          "name": "stdout",
          "text": [
            "PyTorch has version 2.1.0+cu121\n"
          ]
        }
      ],
      "source": [
        "import torch\n",
        "\n",
        "print(\"PyTorch has version {}\".format(torch.__version__))"
      ]
    },
    {
      "cell_type": "code",
      "execution_count": 45,
      "metadata": {
        "colab": {
          "base_uri": "https://localhost:8080/"
        },
        "id": "8Vk9Jx-QsaFJ",
        "outputId": "ad6ff6bb-bb28-44d3-fe60-abb3a386c435"
      },
      "outputs": [
        {
          "output_type": "execute_result",
          "data": {
            "text/plain": [
              "device(type='cuda')"
            ]
          },
          "metadata": {},
          "execution_count": 45
        }
      ],
      "source": [
        "device = torch.device(\"cuda\" if torch.cuda.is_available() else \"cpu\")\n",
        "device"
      ]
    },
    {
      "cell_type": "markdown",
      "metadata": {
        "id": "BoRvTQ1vtwcq"
      },
      "source": [
        "# Required setup\n",
        "\n",
        "For GNN construction, we will use PyTorch Geometric ([PyG](https://pytorch-geometric.readthedocs.io/)) library. This is a PyTorch extension library for geometric deep learning, which consists of a variety of methods and utilities to ease the implementation of graph neural networks."
      ]
    },
    {
      "cell_type": "code",
      "execution_count": 46,
      "metadata": {
        "id": "9xVypDxXrg3G"
      },
      "outputs": [],
      "source": [
        "# Install torch geometric\n",
        "!pip install -q torch-scatter -f https://pytorch-geometric.com/whl/torch-{torch.__version__}.html\n",
        "!pip install -q torch-sparse -f https://pytorch-geometric.com/whl/torch-{torch.__version__}.html\n",
        "!pip install -q torch-geometric"
      ]
    },
    {
      "cell_type": "code",
      "execution_count": 47,
      "metadata": {
        "colab": {
          "base_uri": "https://localhost:8080/"
        },
        "id": "n-AMRcHlrvVz",
        "outputId": "e533d45d-f11a-4d77-e648-08fb904a3acb"
      },
      "outputs": [
        {
          "output_type": "stream",
          "name": "stdout",
          "text": [
            "PyG has version 2.4.0\n"
          ]
        }
      ],
      "source": [
        "import torch_geometric\n",
        "print(\"PyG has version {}\".format(torch_geometric.__version__))"
      ]
    },
    {
      "cell_type": "markdown",
      "metadata": {
        "id": "tDx1rOvznfNe"
      },
      "source": [
        "# Imports"
      ]
    },
    {
      "cell_type": "code",
      "execution_count": 48,
      "metadata": {
        "id": "Y9fonQcxt3do"
      },
      "outputs": [],
      "source": [
        "import random\n",
        "import numpy as np\n",
        "import pandas as pd\n",
        "from sklearn.preprocessing import LabelEncoder\n",
        "from sklearn.model_selection import train_test_split\n",
        "\n",
        "from tqdm.notebook import tqdm\n",
        "import torch.nn as nn\n",
        "import torch.nn.functional as F\n",
        "from torch_geometric.nn.conv import MessagePassing\n",
        "from torch_geometric.utils import degree\n",
        "\n",
        "import seaborn as sns\n",
        "import matplotlib.pyplot as plt"
      ]
    },
    {
      "cell_type": "markdown",
      "metadata": {
        "id": "eYnQc9UH07Fg"
      },
      "source": [
        "# Data prepocessing\n",
        "\n",
        "## Dataset description\n",
        "\n",
        "In this tutorial, we are using a real data that we crawled from the [Distiller website](https://distiller.com/) thas is liquor online store with real users and their ratings on the purchased products. The crawling process can be checked in this [Colab notebook](https://colab.research.google.com/drive/1iO_XRAxQ2A5M-Pe-wpcAVW9YCINV93up?usp=sharing).\n",
        "\n",
        "You can access an intermidiate dataset from our [repository](https://github.com/karinaDen/Rum-Recommendation/tree/main) in the `data/interim` folder.\n",
        "\n",
        "The dataset consists of the following columns:\n",
        "- `username` — username of the user who has purchased and rated the rum product;\n",
        "- `item` — name of the rum/whiskey that has been rated;\n",
        "- `rating` — rating score given by the user for the rum they have purchased;\n",
        "- `user_id` — id of a user;\n",
        "- `item_id` — id of a product.\n",
        "\n",
        "To ensure the dataset's reliability, each user has provided ratings for a minimum of 10 items.\n",
        "\n",
        "\n",
        "## Our goal\n",
        "\n",
        "Our focus is to analyze past user-rum interactions, specifically considering user ratings. Thus, we can model the recommender system as a bipartite graph, with user and rum item types of nodes connected by edges representing user rating scores. This approach enables us to utilize graph ML techniques to recommend new rum or whiskey products to users in the future."
      ]
    },
    {
      "cell_type": "code",
      "execution_count": 49,
      "metadata": {
        "colab": {
          "base_uri": "https://localhost:8080/"
        },
        "id": "bRYTBnH-XgD3",
        "outputId": "27d11b56-4efd-4183-ef5c-ff29274ecdee"
      },
      "outputs": [
        {
          "output_type": "stream",
          "name": "stdout",
          "text": [
            "fatal: destination path 'Rum-Recommendation' already exists and is not an empty directory.\n"
          ]
        }
      ],
      "source": [
        "!git clone https://github.com/karinaDen/Rum-Recommendation.git"
      ]
    },
    {
      "cell_type": "code",
      "execution_count": 50,
      "metadata": {
        "colab": {
          "base_uri": "https://localhost:8080/",
          "height": 206
        },
        "id": "MrrrPsrG3E2a",
        "outputId": "d890a13e-7209-4049-af8b-e07dbc12a64b"
      },
      "outputs": [
        {
          "output_type": "execute_result",
          "data": {
            "text/plain": [
              "  username                                        item  rating  user_id  \\\n",
              "0   00PJ00                         ardbeg-corryvreckan    5.00        1   \n",
              "1   00PJ00                            ardbeg-uigeadail    4.00        1   \n",
              "2   00PJ00                   benromach-peat-smoke-2005    4.00        1   \n",
              "3   00PJ00                             elijah-craig-12    4.25        1   \n",
              "4   00PJ00  gooderham-worts-four-grain-canadian-whisky    4.75        1   \n",
              "\n",
              "   item_id  \n",
              "0       19  \n",
              "1       22  \n",
              "2       55  \n",
              "3      155  \n",
              "4      217  "
            ],
            "text/html": [
              "\n",
              "  <div id=\"df-2877fee5-dc02-406c-9980-3ae9e7f53ddf\" class=\"colab-df-container\">\n",
              "    <div>\n",
              "<style scoped>\n",
              "    .dataframe tbody tr th:only-of-type {\n",
              "        vertical-align: middle;\n",
              "    }\n",
              "\n",
              "    .dataframe tbody tr th {\n",
              "        vertical-align: top;\n",
              "    }\n",
              "\n",
              "    .dataframe thead th {\n",
              "        text-align: right;\n",
              "    }\n",
              "</style>\n",
              "<table border=\"1\" class=\"dataframe\">\n",
              "  <thead>\n",
              "    <tr style=\"text-align: right;\">\n",
              "      <th></th>\n",
              "      <th>username</th>\n",
              "      <th>item</th>\n",
              "      <th>rating</th>\n",
              "      <th>user_id</th>\n",
              "      <th>item_id</th>\n",
              "    </tr>\n",
              "  </thead>\n",
              "  <tbody>\n",
              "    <tr>\n",
              "      <th>0</th>\n",
              "      <td>00PJ00</td>\n",
              "      <td>ardbeg-corryvreckan</td>\n",
              "      <td>5.00</td>\n",
              "      <td>1</td>\n",
              "      <td>19</td>\n",
              "    </tr>\n",
              "    <tr>\n",
              "      <th>1</th>\n",
              "      <td>00PJ00</td>\n",
              "      <td>ardbeg-uigeadail</td>\n",
              "      <td>4.00</td>\n",
              "      <td>1</td>\n",
              "      <td>22</td>\n",
              "    </tr>\n",
              "    <tr>\n",
              "      <th>2</th>\n",
              "      <td>00PJ00</td>\n",
              "      <td>benromach-peat-smoke-2005</td>\n",
              "      <td>4.00</td>\n",
              "      <td>1</td>\n",
              "      <td>55</td>\n",
              "    </tr>\n",
              "    <tr>\n",
              "      <th>3</th>\n",
              "      <td>00PJ00</td>\n",
              "      <td>elijah-craig-12</td>\n",
              "      <td>4.25</td>\n",
              "      <td>1</td>\n",
              "      <td>155</td>\n",
              "    </tr>\n",
              "    <tr>\n",
              "      <th>4</th>\n",
              "      <td>00PJ00</td>\n",
              "      <td>gooderham-worts-four-grain-canadian-whisky</td>\n",
              "      <td>4.75</td>\n",
              "      <td>1</td>\n",
              "      <td>217</td>\n",
              "    </tr>\n",
              "  </tbody>\n",
              "</table>\n",
              "</div>\n",
              "    <div class=\"colab-df-buttons\">\n",
              "\n",
              "  <div class=\"colab-df-container\">\n",
              "    <button class=\"colab-df-convert\" onclick=\"convertToInteractive('df-2877fee5-dc02-406c-9980-3ae9e7f53ddf')\"\n",
              "            title=\"Convert this dataframe to an interactive table.\"\n",
              "            style=\"display:none;\">\n",
              "\n",
              "  <svg xmlns=\"http://www.w3.org/2000/svg\" height=\"24px\" viewBox=\"0 -960 960 960\">\n",
              "    <path d=\"M120-120v-720h720v720H120Zm60-500h600v-160H180v160Zm220 220h160v-160H400v160Zm0 220h160v-160H400v160ZM180-400h160v-160H180v160Zm440 0h160v-160H620v160ZM180-180h160v-160H180v160Zm440 0h160v-160H620v160Z\"/>\n",
              "  </svg>\n",
              "    </button>\n",
              "\n",
              "  <style>\n",
              "    .colab-df-container {\n",
              "      display:flex;\n",
              "      gap: 12px;\n",
              "    }\n",
              "\n",
              "    .colab-df-convert {\n",
              "      background-color: #E8F0FE;\n",
              "      border: none;\n",
              "      border-radius: 50%;\n",
              "      cursor: pointer;\n",
              "      display: none;\n",
              "      fill: #1967D2;\n",
              "      height: 32px;\n",
              "      padding: 0 0 0 0;\n",
              "      width: 32px;\n",
              "    }\n",
              "\n",
              "    .colab-df-convert:hover {\n",
              "      background-color: #E2EBFA;\n",
              "      box-shadow: 0px 1px 2px rgba(60, 64, 67, 0.3), 0px 1px 3px 1px rgba(60, 64, 67, 0.15);\n",
              "      fill: #174EA6;\n",
              "    }\n",
              "\n",
              "    .colab-df-buttons div {\n",
              "      margin-bottom: 4px;\n",
              "    }\n",
              "\n",
              "    [theme=dark] .colab-df-convert {\n",
              "      background-color: #3B4455;\n",
              "      fill: #D2E3FC;\n",
              "    }\n",
              "\n",
              "    [theme=dark] .colab-df-convert:hover {\n",
              "      background-color: #434B5C;\n",
              "      box-shadow: 0px 1px 3px 1px rgba(0, 0, 0, 0.15);\n",
              "      filter: drop-shadow(0px 1px 2px rgba(0, 0, 0, 0.3));\n",
              "      fill: #FFFFFF;\n",
              "    }\n",
              "  </style>\n",
              "\n",
              "    <script>\n",
              "      const buttonEl =\n",
              "        document.querySelector('#df-2877fee5-dc02-406c-9980-3ae9e7f53ddf button.colab-df-convert');\n",
              "      buttonEl.style.display =\n",
              "        google.colab.kernel.accessAllowed ? 'block' : 'none';\n",
              "\n",
              "      async function convertToInteractive(key) {\n",
              "        const element = document.querySelector('#df-2877fee5-dc02-406c-9980-3ae9e7f53ddf');\n",
              "        const dataTable =\n",
              "          await google.colab.kernel.invokeFunction('convertToInteractive',\n",
              "                                                    [key], {});\n",
              "        if (!dataTable) return;\n",
              "\n",
              "        const docLinkHtml = 'Like what you see? Visit the ' +\n",
              "          '<a target=\"_blank\" href=https://colab.research.google.com/notebooks/data_table.ipynb>data table notebook</a>'\n",
              "          + ' to learn more about interactive tables.';\n",
              "        element.innerHTML = '';\n",
              "        dataTable['output_type'] = 'display_data';\n",
              "        await google.colab.output.renderOutput(dataTable, element);\n",
              "        const docLink = document.createElement('div');\n",
              "        docLink.innerHTML = docLinkHtml;\n",
              "        element.appendChild(docLink);\n",
              "      }\n",
              "    </script>\n",
              "  </div>\n",
              "\n",
              "\n",
              "<div id=\"df-92d5033e-55ea-49bd-a76c-5ff4967ded5d\">\n",
              "  <button class=\"colab-df-quickchart\" onclick=\"quickchart('df-92d5033e-55ea-49bd-a76c-5ff4967ded5d')\"\n",
              "            title=\"Suggest charts\"\n",
              "            style=\"display:none;\">\n",
              "\n",
              "<svg xmlns=\"http://www.w3.org/2000/svg\" height=\"24px\"viewBox=\"0 0 24 24\"\n",
              "     width=\"24px\">\n",
              "    <g>\n",
              "        <path d=\"M19 3H5c-1.1 0-2 .9-2 2v14c0 1.1.9 2 2 2h14c1.1 0 2-.9 2-2V5c0-1.1-.9-2-2-2zM9 17H7v-7h2v7zm4 0h-2V7h2v10zm4 0h-2v-4h2v4z\"/>\n",
              "    </g>\n",
              "</svg>\n",
              "  </button>\n",
              "\n",
              "<style>\n",
              "  .colab-df-quickchart {\n",
              "      --bg-color: #E8F0FE;\n",
              "      --fill-color: #1967D2;\n",
              "      --hover-bg-color: #E2EBFA;\n",
              "      --hover-fill-color: #174EA6;\n",
              "      --disabled-fill-color: #AAA;\n",
              "      --disabled-bg-color: #DDD;\n",
              "  }\n",
              "\n",
              "  [theme=dark] .colab-df-quickchart {\n",
              "      --bg-color: #3B4455;\n",
              "      --fill-color: #D2E3FC;\n",
              "      --hover-bg-color: #434B5C;\n",
              "      --hover-fill-color: #FFFFFF;\n",
              "      --disabled-bg-color: #3B4455;\n",
              "      --disabled-fill-color: #666;\n",
              "  }\n",
              "\n",
              "  .colab-df-quickchart {\n",
              "    background-color: var(--bg-color);\n",
              "    border: none;\n",
              "    border-radius: 50%;\n",
              "    cursor: pointer;\n",
              "    display: none;\n",
              "    fill: var(--fill-color);\n",
              "    height: 32px;\n",
              "    padding: 0;\n",
              "    width: 32px;\n",
              "  }\n",
              "\n",
              "  .colab-df-quickchart:hover {\n",
              "    background-color: var(--hover-bg-color);\n",
              "    box-shadow: 0 1px 2px rgba(60, 64, 67, 0.3), 0 1px 3px 1px rgba(60, 64, 67, 0.15);\n",
              "    fill: var(--button-hover-fill-color);\n",
              "  }\n",
              "\n",
              "  .colab-df-quickchart-complete:disabled,\n",
              "  .colab-df-quickchart-complete:disabled:hover {\n",
              "    background-color: var(--disabled-bg-color);\n",
              "    fill: var(--disabled-fill-color);\n",
              "    box-shadow: none;\n",
              "  }\n",
              "\n",
              "  .colab-df-spinner {\n",
              "    border: 2px solid var(--fill-color);\n",
              "    border-color: transparent;\n",
              "    border-bottom-color: var(--fill-color);\n",
              "    animation:\n",
              "      spin 1s steps(1) infinite;\n",
              "  }\n",
              "\n",
              "  @keyframes spin {\n",
              "    0% {\n",
              "      border-color: transparent;\n",
              "      border-bottom-color: var(--fill-color);\n",
              "      border-left-color: var(--fill-color);\n",
              "    }\n",
              "    20% {\n",
              "      border-color: transparent;\n",
              "      border-left-color: var(--fill-color);\n",
              "      border-top-color: var(--fill-color);\n",
              "    }\n",
              "    30% {\n",
              "      border-color: transparent;\n",
              "      border-left-color: var(--fill-color);\n",
              "      border-top-color: var(--fill-color);\n",
              "      border-right-color: var(--fill-color);\n",
              "    }\n",
              "    40% {\n",
              "      border-color: transparent;\n",
              "      border-right-color: var(--fill-color);\n",
              "      border-top-color: var(--fill-color);\n",
              "    }\n",
              "    60% {\n",
              "      border-color: transparent;\n",
              "      border-right-color: var(--fill-color);\n",
              "    }\n",
              "    80% {\n",
              "      border-color: transparent;\n",
              "      border-right-color: var(--fill-color);\n",
              "      border-bottom-color: var(--fill-color);\n",
              "    }\n",
              "    90% {\n",
              "      border-color: transparent;\n",
              "      border-bottom-color: var(--fill-color);\n",
              "    }\n",
              "  }\n",
              "</style>\n",
              "\n",
              "  <script>\n",
              "    async function quickchart(key) {\n",
              "      const quickchartButtonEl =\n",
              "        document.querySelector('#' + key + ' button');\n",
              "      quickchartButtonEl.disabled = true;  // To prevent multiple clicks.\n",
              "      quickchartButtonEl.classList.add('colab-df-spinner');\n",
              "      try {\n",
              "        const charts = await google.colab.kernel.invokeFunction(\n",
              "            'suggestCharts', [key], {});\n",
              "      } catch (error) {\n",
              "        console.error('Error during call to suggestCharts:', error);\n",
              "      }\n",
              "      quickchartButtonEl.classList.remove('colab-df-spinner');\n",
              "      quickchartButtonEl.classList.add('colab-df-quickchart-complete');\n",
              "    }\n",
              "    (() => {\n",
              "      let quickchartButtonEl =\n",
              "        document.querySelector('#df-92d5033e-55ea-49bd-a76c-5ff4967ded5d button');\n",
              "      quickchartButtonEl.style.display =\n",
              "        google.colab.kernel.accessAllowed ? 'block' : 'none';\n",
              "    })();\n",
              "  </script>\n",
              "</div>\n",
              "    </div>\n",
              "  </div>\n"
            ]
          },
          "metadata": {},
          "execution_count": 50
        }
      ],
      "source": [
        "ds = pd.read_csv('Rum-Recommendation/data/interim/reviews_final.csv')\n",
        "ds.head()"
      ]
    },
    {
      "cell_type": "markdown",
      "metadata": {
        "collapsed": false,
        "id": "C12L9YK4iXeQ"
      },
      "source": [
        "The length of the dataset is the number of user-item interactions."
      ]
    },
    {
      "cell_type": "code",
      "execution_count": 51,
      "metadata": {
        "colab": {
          "base_uri": "https://localhost:8080/"
        },
        "id": "bKmJNtTe3aLi",
        "outputId": "d17397a6-1fe7-464b-e3cd-e301988d6ea4"
      },
      "outputs": [
        {
          "output_type": "stream",
          "name": "stdout",
          "text": [
            "Dataset length: 31783\n"
          ]
        }
      ],
      "source": [
        "print(f'Dataset length: {len(ds)}')"
      ]
    },
    {
      "cell_type": "markdown",
      "metadata": {
        "collapsed": false,
        "id": "9ktUEcnkiXeR"
      },
      "source": [
        "The `item_names_and_ids` will be used later to display the names of the recommended items during the inference phase."
      ]
    },
    {
      "cell_type": "code",
      "execution_count": 52,
      "metadata": {
        "colab": {
          "base_uri": "https://localhost:8080/",
          "height": 225
        },
        "id": "dJtXajW9MpDE",
        "outputId": "a619e405-37b3-426d-acdc-fed891a322a4"
      },
      "outputs": [
        {
          "output_type": "stream",
          "name": "stdout",
          "text": [
            "Item id and item name:\n"
          ]
        },
        {
          "output_type": "execute_result",
          "data": {
            "text/plain": [
              "   item_id                                        item\n",
              "0       19                         ardbeg-corryvreckan\n",
              "1       22                            ardbeg-uigeadail\n",
              "2       55                   benromach-peat-smoke-2005\n",
              "3      155                             elijah-craig-12\n",
              "4      217  gooderham-worts-four-grain-canadian-whisky"
            ],
            "text/html": [
              "\n",
              "  <div id=\"df-6bfffcf7-15c5-4424-b664-901ccf5ea123\" class=\"colab-df-container\">\n",
              "    <div>\n",
              "<style scoped>\n",
              "    .dataframe tbody tr th:only-of-type {\n",
              "        vertical-align: middle;\n",
              "    }\n",
              "\n",
              "    .dataframe tbody tr th {\n",
              "        vertical-align: top;\n",
              "    }\n",
              "\n",
              "    .dataframe thead th {\n",
              "        text-align: right;\n",
              "    }\n",
              "</style>\n",
              "<table border=\"1\" class=\"dataframe\">\n",
              "  <thead>\n",
              "    <tr style=\"text-align: right;\">\n",
              "      <th></th>\n",
              "      <th>item_id</th>\n",
              "      <th>item</th>\n",
              "    </tr>\n",
              "  </thead>\n",
              "  <tbody>\n",
              "    <tr>\n",
              "      <th>0</th>\n",
              "      <td>19</td>\n",
              "      <td>ardbeg-corryvreckan</td>\n",
              "    </tr>\n",
              "    <tr>\n",
              "      <th>1</th>\n",
              "      <td>22</td>\n",
              "      <td>ardbeg-uigeadail</td>\n",
              "    </tr>\n",
              "    <tr>\n",
              "      <th>2</th>\n",
              "      <td>55</td>\n",
              "      <td>benromach-peat-smoke-2005</td>\n",
              "    </tr>\n",
              "    <tr>\n",
              "      <th>3</th>\n",
              "      <td>155</td>\n",
              "      <td>elijah-craig-12</td>\n",
              "    </tr>\n",
              "    <tr>\n",
              "      <th>4</th>\n",
              "      <td>217</td>\n",
              "      <td>gooderham-worts-four-grain-canadian-whisky</td>\n",
              "    </tr>\n",
              "  </tbody>\n",
              "</table>\n",
              "</div>\n",
              "    <div class=\"colab-df-buttons\">\n",
              "\n",
              "  <div class=\"colab-df-container\">\n",
              "    <button class=\"colab-df-convert\" onclick=\"convertToInteractive('df-6bfffcf7-15c5-4424-b664-901ccf5ea123')\"\n",
              "            title=\"Convert this dataframe to an interactive table.\"\n",
              "            style=\"display:none;\">\n",
              "\n",
              "  <svg xmlns=\"http://www.w3.org/2000/svg\" height=\"24px\" viewBox=\"0 -960 960 960\">\n",
              "    <path d=\"M120-120v-720h720v720H120Zm60-500h600v-160H180v160Zm220 220h160v-160H400v160Zm0 220h160v-160H400v160ZM180-400h160v-160H180v160Zm440 0h160v-160H620v160ZM180-180h160v-160H180v160Zm440 0h160v-160H620v160Z\"/>\n",
              "  </svg>\n",
              "    </button>\n",
              "\n",
              "  <style>\n",
              "    .colab-df-container {\n",
              "      display:flex;\n",
              "      gap: 12px;\n",
              "    }\n",
              "\n",
              "    .colab-df-convert {\n",
              "      background-color: #E8F0FE;\n",
              "      border: none;\n",
              "      border-radius: 50%;\n",
              "      cursor: pointer;\n",
              "      display: none;\n",
              "      fill: #1967D2;\n",
              "      height: 32px;\n",
              "      padding: 0 0 0 0;\n",
              "      width: 32px;\n",
              "    }\n",
              "\n",
              "    .colab-df-convert:hover {\n",
              "      background-color: #E2EBFA;\n",
              "      box-shadow: 0px 1px 2px rgba(60, 64, 67, 0.3), 0px 1px 3px 1px rgba(60, 64, 67, 0.15);\n",
              "      fill: #174EA6;\n",
              "    }\n",
              "\n",
              "    .colab-df-buttons div {\n",
              "      margin-bottom: 4px;\n",
              "    }\n",
              "\n",
              "    [theme=dark] .colab-df-convert {\n",
              "      background-color: #3B4455;\n",
              "      fill: #D2E3FC;\n",
              "    }\n",
              "\n",
              "    [theme=dark] .colab-df-convert:hover {\n",
              "      background-color: #434B5C;\n",
              "      box-shadow: 0px 1px 3px 1px rgba(0, 0, 0, 0.15);\n",
              "      filter: drop-shadow(0px 1px 2px rgba(0, 0, 0, 0.3));\n",
              "      fill: #FFFFFF;\n",
              "    }\n",
              "  </style>\n",
              "\n",
              "    <script>\n",
              "      const buttonEl =\n",
              "        document.querySelector('#df-6bfffcf7-15c5-4424-b664-901ccf5ea123 button.colab-df-convert');\n",
              "      buttonEl.style.display =\n",
              "        google.colab.kernel.accessAllowed ? 'block' : 'none';\n",
              "\n",
              "      async function convertToInteractive(key) {\n",
              "        const element = document.querySelector('#df-6bfffcf7-15c5-4424-b664-901ccf5ea123');\n",
              "        const dataTable =\n",
              "          await google.colab.kernel.invokeFunction('convertToInteractive',\n",
              "                                                    [key], {});\n",
              "        if (!dataTable) return;\n",
              "\n",
              "        const docLinkHtml = 'Like what you see? Visit the ' +\n",
              "          '<a target=\"_blank\" href=https://colab.research.google.com/notebooks/data_table.ipynb>data table notebook</a>'\n",
              "          + ' to learn more about interactive tables.';\n",
              "        element.innerHTML = '';\n",
              "        dataTable['output_type'] = 'display_data';\n",
              "        await google.colab.output.renderOutput(dataTable, element);\n",
              "        const docLink = document.createElement('div');\n",
              "        docLink.innerHTML = docLinkHtml;\n",
              "        element.appendChild(docLink);\n",
              "      }\n",
              "    </script>\n",
              "  </div>\n",
              "\n",
              "\n",
              "<div id=\"df-e39cfa16-999b-448b-90de-87775085db10\">\n",
              "  <button class=\"colab-df-quickchart\" onclick=\"quickchart('df-e39cfa16-999b-448b-90de-87775085db10')\"\n",
              "            title=\"Suggest charts\"\n",
              "            style=\"display:none;\">\n",
              "\n",
              "<svg xmlns=\"http://www.w3.org/2000/svg\" height=\"24px\"viewBox=\"0 0 24 24\"\n",
              "     width=\"24px\">\n",
              "    <g>\n",
              "        <path d=\"M19 3H5c-1.1 0-2 .9-2 2v14c0 1.1.9 2 2 2h14c1.1 0 2-.9 2-2V5c0-1.1-.9-2-2-2zM9 17H7v-7h2v7zm4 0h-2V7h2v10zm4 0h-2v-4h2v4z\"/>\n",
              "    </g>\n",
              "</svg>\n",
              "  </button>\n",
              "\n",
              "<style>\n",
              "  .colab-df-quickchart {\n",
              "      --bg-color: #E8F0FE;\n",
              "      --fill-color: #1967D2;\n",
              "      --hover-bg-color: #E2EBFA;\n",
              "      --hover-fill-color: #174EA6;\n",
              "      --disabled-fill-color: #AAA;\n",
              "      --disabled-bg-color: #DDD;\n",
              "  }\n",
              "\n",
              "  [theme=dark] .colab-df-quickchart {\n",
              "      --bg-color: #3B4455;\n",
              "      --fill-color: #D2E3FC;\n",
              "      --hover-bg-color: #434B5C;\n",
              "      --hover-fill-color: #FFFFFF;\n",
              "      --disabled-bg-color: #3B4455;\n",
              "      --disabled-fill-color: #666;\n",
              "  }\n",
              "\n",
              "  .colab-df-quickchart {\n",
              "    background-color: var(--bg-color);\n",
              "    border: none;\n",
              "    border-radius: 50%;\n",
              "    cursor: pointer;\n",
              "    display: none;\n",
              "    fill: var(--fill-color);\n",
              "    height: 32px;\n",
              "    padding: 0;\n",
              "    width: 32px;\n",
              "  }\n",
              "\n",
              "  .colab-df-quickchart:hover {\n",
              "    background-color: var(--hover-bg-color);\n",
              "    box-shadow: 0 1px 2px rgba(60, 64, 67, 0.3), 0 1px 3px 1px rgba(60, 64, 67, 0.15);\n",
              "    fill: var(--button-hover-fill-color);\n",
              "  }\n",
              "\n",
              "  .colab-df-quickchart-complete:disabled,\n",
              "  .colab-df-quickchart-complete:disabled:hover {\n",
              "    background-color: var(--disabled-bg-color);\n",
              "    fill: var(--disabled-fill-color);\n",
              "    box-shadow: none;\n",
              "  }\n",
              "\n",
              "  .colab-df-spinner {\n",
              "    border: 2px solid var(--fill-color);\n",
              "    border-color: transparent;\n",
              "    border-bottom-color: var(--fill-color);\n",
              "    animation:\n",
              "      spin 1s steps(1) infinite;\n",
              "  }\n",
              "\n",
              "  @keyframes spin {\n",
              "    0% {\n",
              "      border-color: transparent;\n",
              "      border-bottom-color: var(--fill-color);\n",
              "      border-left-color: var(--fill-color);\n",
              "    }\n",
              "    20% {\n",
              "      border-color: transparent;\n",
              "      border-left-color: var(--fill-color);\n",
              "      border-top-color: var(--fill-color);\n",
              "    }\n",
              "    30% {\n",
              "      border-color: transparent;\n",
              "      border-left-color: var(--fill-color);\n",
              "      border-top-color: var(--fill-color);\n",
              "      border-right-color: var(--fill-color);\n",
              "    }\n",
              "    40% {\n",
              "      border-color: transparent;\n",
              "      border-right-color: var(--fill-color);\n",
              "      border-top-color: var(--fill-color);\n",
              "    }\n",
              "    60% {\n",
              "      border-color: transparent;\n",
              "      border-right-color: var(--fill-color);\n",
              "    }\n",
              "    80% {\n",
              "      border-color: transparent;\n",
              "      border-right-color: var(--fill-color);\n",
              "      border-bottom-color: var(--fill-color);\n",
              "    }\n",
              "    90% {\n",
              "      border-color: transparent;\n",
              "      border-bottom-color: var(--fill-color);\n",
              "    }\n",
              "  }\n",
              "</style>\n",
              "\n",
              "  <script>\n",
              "    async function quickchart(key) {\n",
              "      const quickchartButtonEl =\n",
              "        document.querySelector('#' + key + ' button');\n",
              "      quickchartButtonEl.disabled = true;  // To prevent multiple clicks.\n",
              "      quickchartButtonEl.classList.add('colab-df-spinner');\n",
              "      try {\n",
              "        const charts = await google.colab.kernel.invokeFunction(\n",
              "            'suggestCharts', [key], {});\n",
              "      } catch (error) {\n",
              "        console.error('Error during call to suggestCharts:', error);\n",
              "      }\n",
              "      quickchartButtonEl.classList.remove('colab-df-spinner');\n",
              "      quickchartButtonEl.classList.add('colab-df-quickchart-complete');\n",
              "    }\n",
              "    (() => {\n",
              "      let quickchartButtonEl =\n",
              "        document.querySelector('#df-e39cfa16-999b-448b-90de-87775085db10 button');\n",
              "      quickchartButtonEl.style.display =\n",
              "        google.colab.kernel.accessAllowed ? 'block' : 'none';\n",
              "    })();\n",
              "  </script>\n",
              "</div>\n",
              "    </div>\n",
              "  </div>\n"
            ]
          },
          "metadata": {},
          "execution_count": 52
        }
      ],
      "source": [
        "item_names_and_ids = ds[['item_id', 'item']].drop_duplicates()\n",
        "print('Item id and item name:')\n",
        "item_names_and_ids.head()"
      ]
    },
    {
      "cell_type": "markdown",
      "metadata": {
        "id": "BzX3-JClrcCx"
      },
      "source": [
        "In order to predict which rum/whiskey products a user may try in the future, we will only consider high ratings (specifically, rating scores above 3.25) as interactions."
      ]
    },
    {
      "cell_type": "code",
      "execution_count": 53,
      "metadata": {
        "colab": {
          "base_uri": "https://localhost:8080/"
        },
        "id": "j0vvQB9Kmea7",
        "outputId": "864b3ae1-59e4-475e-a36c-4083db453770"
      },
      "outputs": [
        {
          "output_type": "stream",
          "name": "stdout",
          "text": [
            "Filtered dataset length: 28131\n"
          ]
        }
      ],
      "source": [
        "# Filter the dataset to include only high ratings (above 3.25)\n",
        "ds = ds[ds['rating'] > 3.25]\n",
        "\n",
        "print(f'Filtered dataset length: {len(ds)}')"
      ]
    },
    {
      "cell_type": "code",
      "execution_count": 54,
      "metadata": {
        "colab": {
          "base_uri": "https://localhost:8080/"
        },
        "id": "yvuk3tEomrQI",
        "outputId": "09eef760-505c-47e8-adb6-ada5fb8e80bc"
      },
      "outputs": [
        {
          "output_type": "stream",
          "name": "stdout",
          "text": [
            "Rating distribution:\n"
          ]
        },
        {
          "output_type": "execute_result",
          "data": {
            "text/plain": [
              "5.00    7950\n",
              "4.75    1622\n",
              "4.50    3801\n",
              "4.25    3197\n",
              "4.00    8930\n",
              "3.75    1515\n",
              "3.50    1116\n",
              "Name: rating, dtype: int64"
            ]
          },
          "metadata": {},
          "execution_count": 54
        }
      ],
      "source": [
        "print('Rating distribution:')\n",
        "ds['rating'].value_counts().sort_index(ascending=False)"
      ]
    },
    {
      "cell_type": "markdown",
      "metadata": {
        "id": "89AKR2FAtxUP"
      },
      "source": [
        "Now, let's split the dataset with a 80/20 train-test ratio."
      ]
    },
    {
      "cell_type": "code",
      "execution_count": 55,
      "metadata": {
        "colab": {
          "base_uri": "https://localhost:8080/"
        },
        "id": "50eSoP3qmrbJ",
        "outputId": "5121ba7d-e80a-46ac-8566-b3bcee100ef3"
      },
      "outputs": [
        {
          "output_type": "stream",
          "name": "stdout",
          "text": [
            "Train dataset length: 22504\n",
            "Test dataset length: 5627\n"
          ]
        }
      ],
      "source": [
        "train, test = train_test_split(ds.values, test_size=0.2, random_state=42)\n",
        "\n",
        "train_ds = pd.DataFrame(train, columns=ds.columns)\n",
        "test_ds = pd.DataFrame(test, columns=ds.columns)\n",
        "\n",
        "print(f'Train dataset length: {len(train_ds)}')\n",
        "print(f'Test dataset length: {len(test_ds)}')"
      ]
    },
    {
      "cell_type": "markdown",
      "metadata": {
        "id": "g0bHVYGjrTcL"
      },
      "source": [
        "Due to the randomness of interactions train-test split, it is possible that not all users and items are present in the training set. To address this, we will relabel all users and items to ensure that the highest label corresponds to the total number of users and items, respectively."
      ]
    },
    {
      "cell_type": "code",
      "execution_count": 56,
      "metadata": {
        "id": "QXi90opJmriQ"
      },
      "outputs": [],
      "source": [
        "encoder_1 = LabelEncoder()\n",
        "train_ds['user_id_idx'] = encoder_1.fit_transform(train_ds['user_id'].values)\n",
        "\n",
        "encoder_2 = LabelEncoder()\n",
        "train_ds['item_id_idx'] = encoder_2.fit_transform(train_ds['item_id'].values)\n",
        "\n",
        "train_user_ids = train_ds['user_id'].unique()\n",
        "train_item_ids = train_ds['item_id'].unique()"
      ]
    },
    {
      "cell_type": "code",
      "execution_count": 57,
      "metadata": {
        "id": "9fKAfWyCm5eY"
      },
      "outputs": [],
      "source": [
        "test_ds.loc[test_ds['user_id'].isin(train_user_ids), 'user_id_idx'] = \\\n",
        "    encoder_1.transform(test_ds.loc[test_ds['user_id'].isin(train_user_ids), 'user_id'].values)\n",
        "\n",
        "test_ds.loc[test_ds['item_id'].isin(train_item_ids), 'item_id_idx'] = \\\n",
        "    encoder_2.transform(test_ds.loc[test_ds['item_id'].isin(train_item_ids), 'item_id'].values)"
      ]
    },
    {
      "cell_type": "code",
      "execution_count": 58,
      "metadata": {
        "colab": {
          "base_uri": "https://localhost:8080/"
        },
        "id": "-WOF-cOAm5iO",
        "outputId": "106a2e11-a457-4f3d-c9b1-250b1438c026"
      },
      "outputs": [
        {
          "output_type": "stream",
          "name": "stdout",
          "text": [
            "Unique users count: 1713\n",
            "Unique rum items count: 505\n"
          ]
        }
      ],
      "source": [
        "num_users = len(train_user_ids)\n",
        "num_items = len(train_item_ids)\n",
        "\n",
        "print(f'Unique users count: {num_users}')\n",
        "print(f'Unique rum items count: {num_items}')"
      ]
    },
    {
      "cell_type": "markdown",
      "metadata": {
        "id": "vjHZg1Eu-MKs"
      },
      "source": [
        "## Edge Index\n",
        "\n",
        "In PyG, graphs are represented as sparse lists of node pairs. As our graph is undirected, we need to include each edge twice - once for the edges from the users to the items, and once for the edges from the items to the users."
      ]
    },
    {
      "cell_type": "code",
      "execution_count": 59,
      "metadata": {
        "colab": {
          "base_uri": "https://localhost:8080/"
        },
        "id": "O3BkGyV9pkce",
        "outputId": "49f9e10a-c510-4461-f521-a63bf0b9a03b"
      },
      "outputs": [
        {
          "output_type": "execute_result",
          "data": {
            "text/plain": [
              "tensor([[ 177,   48,  925,  ..., 2035, 2085, 2121],\n",
              "        [2088, 1798, 2207,  ...,   56,  980, 1456]], device='cuda:0')"
            ]
          },
          "metadata": {},
          "execution_count": 59
        }
      ],
      "source": [
        "users_t = torch.LongTensor(train_ds['user_id_idx'])\n",
        "items_t = torch.LongTensor(train_ds['item_id_idx']) + num_users\n",
        "\n",
        "edge_index = torch.stack((torch.cat([users_t, items_t]), torch.cat([items_t, users_t])))\n",
        "edge_index = edge_index.to(device)\n",
        "\n",
        "edge_index"
      ]
    },
    {
      "cell_type": "markdown",
      "metadata": {
        "id": "2ys1P7mtcr54"
      },
      "source": [
        "# LightGCN Implementation\n",
        "\n",
        "## Model Description\n",
        "\n",
        "LightGCN model is a type of graph neural network architecture that is widely used for recommendation tasks. It only utilizes the initial node embeddings of users and items in the graph as trainable parameters.\n",
        "\n",
        "The main concept behind LightGCN is to propagate embeddings across the graph by aggregating information from neighboring nodes. This is done by updating node embeddings based on the embeddings of their neighboring nodes.\n",
        "\n",
        "The LightGCN architecture operates based on the following set of rules:\n",
        "\n",
        "$$e_{u}^{(k+1)} = \\sum\\limits_{i \\in N_u} \\frac{1}{\\sqrt{|N_u|}\\sqrt{|N_i|}}e^{(k)}_i$$\n",
        "\n",
        "$$e_{i}^{(k+1)} = \\sum\\limits_{u \\in N_i} \\frac{1}{\\sqrt{|N_i|}\\sqrt{|N_u|}}e^{(k)}_u$$\n",
        "\n",
        "Additionally, the each node embedding after a single LightGCN layer is the sum of the synthetic normalized embeddings of it's neighbors before the layer."
      ]
    },
    {
      "cell_type": "markdown",
      "metadata": {
        "id": "IcUsEulPtNNp"
      },
      "source": [
        "The following code snippet implements the LightGCN convolutional layer using PyG. Notice that we are using the `MessagePassing` class that is a base class for implementing message passing layers."
      ]
    },
    {
      "cell_type": "code",
      "execution_count": 60,
      "metadata": {
        "id": "-aTMoHisNIh_"
      },
      "outputs": [],
      "source": [
        "class LightGCNLayer(MessagePassing):\n",
        "    def __init__(self, **kwargs):\n",
        "        super().__init__(aggr='add')  # Initialize the superclass\n",
        "\n",
        "    def forward(self, node_features, edge_index):\n",
        "        # Propagate messages (no update after aggregation)\n",
        "        source, target = edge_index\n",
        "        degree_val = degree(target, node_features.size(0), dtype=node_features.dtype)\n",
        "        inv_sqrt_degree = degree_val.pow(-0.5)\n",
        "        inv_sqrt_degree[inv_sqrt_degree == float('inf')] = 0\n",
        "        normalization = inv_sqrt_degree[source] * inv_sqrt_degree[target]\n",
        "\n",
        "        return self.propagate(edge_index, x=node_features, norm=normalization)\n",
        "\n",
        "    def message(self, x_j, norm):\n",
        "        # Apply normalization to the neighbor features\n",
        "        return norm.view(-1, 1) * x_j"
      ]
    },
    {
      "cell_type": "markdown",
      "metadata": {
        "id": "I2tW9FJFqNjn"
      },
      "source": [
        "# Recommender System Model Implementation\n",
        "\n",
        "In this tutorial, we are using the following class **RecSys** in order to stack the LightGCN convolutional layer.\n",
        "\n",
        "You can make certain adjustments to our model by considering the **number of layers** and **dimension of latent space**. Increasing the number of layers in the model results in a broader dissemination of recommendation information from nodes that are **n** hops away in a model with **n** layers.\n",
        "\n",
        "It's important to observe that our forward function operates differently compared to typical neural networks, as it performs forward propagation of embeddings for all nodes in the graph. This is necessary because the embeddings of a specific node rely on the embeddings of its **n**-hop neighborhood, thus requiring their propagation as well."
      ]
    },
    {
      "cell_type": "code",
      "execution_count": 61,
      "metadata": {
        "id": "nT5LTkI8Ml1c"
      },
      "outputs": [],
      "source": [
        "class RecSys(nn.Module):\n",
        "\n",
        "    def __init__(self, lat_dim, num_layers, num_users, num_items):\n",
        "        super(RecSys, self).__init__()\n",
        "\n",
        "        self.embedding = nn.Embedding(num_users + num_items, lat_dim)\n",
        "        self.convs = nn.ModuleList(LightGCNConv() for _ in range(num_layers))\n",
        "        self.init_parameters()\n",
        "\n",
        "    def init_parameters(self):\n",
        "        # Authors in [1] mentioned the higher results with normal initialization\n",
        "        nn.init.normal_(self.embedding.weight, std=0.1)\n",
        "\n",
        "    def forward(self, edge_index):\n",
        "        # Compute initial embeddings\n",
        "        init_embed = self.embedding.weight\n",
        "        embeds = [init_embed]\n",
        "\n",
        "        # Compute final embeddings\n",
        "        final_embed = init_embed\n",
        "        for conv in self.convs:\n",
        "            final_embed = conv(x=final_embed, edge_index=edge_index)\n",
        "            embeds.append(final_embed)\n",
        "            output = torch.mean(torch.stack(embeds, dim=0), dim=0)\n",
        "\n",
        "        return init_embed, output\n",
        "\n",
        "    def encode(self, users, positive, negative, edge_index):\n",
        "        # Encode minibatch of users, positive items and negative items\n",
        "        init_embed, output = self(edge_index)\n",
        "        return (output[users], output[positive], output[negative],\n",
        "                init_embed[users], init_embed[positive], init_embed[negative])\n"
      ]
    },
    {
      "cell_type": "markdown",
      "metadata": {
        "id": "XNoblY5kxlv_"
      },
      "source": [
        "## Minibatch Sampling\n",
        "\n",
        "To train our model effectively, we need to sample minibatches consisting of users, positive and negative items. This can be achieved by first sampling users and then, for each user, sampling both positive and negative items."
      ]
    },
    {
      "cell_type": "code",
      "source": [
        "def sample_minibatch(dataset, batch_size, total_users, total_items):\n",
        "    # Create a new dataset by grouping the original dataset by user ID\n",
        "    grouped_dataset = dataset.groupby('user_id_idx')['item_id_idx'].apply(list).reset_index()\n",
        "    user_indices = [index for index in range(total_users)]\n",
        "\n",
        "    # Select users for the minibatch\n",
        "    if total_users < batch_size:\n",
        "        selected_users = [random.choice(user_indices) for _ in range(batch_size)]\n",
        "    else:\n",
        "        selected_users = random.sample(user_indices, batch_size)\n",
        "    selected_users.sort()\n",
        "    tensor_users = torch.LongTensor(selected_users)\n",
        "    users_dataframe = pd.DataFrame(selected_users, columns=['users'])\n",
        "\n",
        "    # Merge the grouped dataset with the selected users\n",
        "    merged_dataset = pd.merge(grouped_dataset, users_dataframe, how='right', left_on='user_id_idx', right_on='users')\n",
        "\n",
        "    # Select positive items for the users\n",
        "    positive_items = merged_dataset['item_id_idx'].apply(lambda x: random.choice(x)).values\n",
        "    tensor_positive_items = torch.LongTensor(positive_items)\n",
        "\n",
        "    # Select negative items for the users\n",
        "    negative_items = []\n",
        "    for x in merged_dataset['item_id_idx']:\n",
        "        while True:\n",
        "            negative_id = random.randint(0, total_items - 1)\n",
        "            if negative_id not in x:\n",
        "                negative_items.append(negative_id)\n",
        "                break\n",
        "    tensor_negative_items = torch.LongTensor(negative_items)\n",
        "\n",
        "    return (tensor_users.to(device),\n",
        "            tensor_positive_items.to(device) + total_users,\n",
        "            tensor_negative_items.to(device) + total_users)\n"
      ],
      "metadata": {
        "id": "CceXwrk7lX0z"
      },
      "execution_count": 62,
      "outputs": []
    },
    {
      "cell_type": "markdown",
      "metadata": {
        "id": "J6qMPUSekUi-"
      },
      "source": [
        "## Loss function\n",
        "\n",
        "We use the Bayesian Personalized Ranking (BPR) loss function for a single minibatch of users, positive items and negative items. It aligns better with the recall@k metric.\n",
        "\n",
        "The formula of BPR loss for a user $u$ is the following:\n",
        "\n",
        "$$BPR(u) = \\frac{1}{|E|⋅|E_{neg}|}\\sum\\limits_{{(u, v_{pos})} \\in E(u)}\\sum\\limits_{{(u, v_{neg})} \\in E_{neg}(u)}-log(\\sigma(f_{\\theta}(u, v_{pos}) - f_{\\theta}(u, v_{neg})))$$\n",
        "Then, the loss is normalized across all users.\n",
        "\n",
        "More precisely, the BPR [[2]](https://arxiv.org/ftp/arxiv/papers/1205/1205.2618.pdf) is a pairwise ranking loss function that aims to maximize the difference between the scores of positive and negative items for each user. This is done by minimizing the negative log likelihood of the positive items' scores."
      ]
    },
    {
      "cell_type": "code",
      "execution_count": 63,
      "metadata": {
        "id": "bwrPmvXPow5q"
      },
      "outputs": [],
      "source": [
        "def get_bpr_loss(users, users_embed, pos_embed, neg_embed, user_init_embed,\n",
        "                     pos_init_embed, neg_init_embed):\n",
        "\n",
        "    # Compute regulization loss from initial embeddings\n",
        "    reg_loss = 0.5 * (user_init_embed.norm().pow(2) +\n",
        "                      pos_init_embed.norm().pow(2) +\n",
        "                      neg_init_embed.norm().pow(2)) / float(len(users))\n",
        "\n",
        "    # Compute BPR loss from user, positive item and negative item embeddings\n",
        "    pos_scores = torch.mul(users_embed, pos_embed).sum(dim=1)\n",
        "    neg_scores = torch.mul(users_embed, neg_embed).sum(dim=1)\n",
        "    bpr_loss = torch.mean(F.softplus(neg_scores - pos_scores))\n",
        "\n",
        "    # Return both regularization loss and BPR loss\n",
        "    return reg_loss, bpr_loss"
      ]
    },
    {
      "cell_type": "markdown",
      "metadata": {
        "id": "q6T67PakkUi-"
      },
      "source": [
        "## Evaluation Metric\n",
        "\n",
        "The recall@k metric is a commonly used evaluation metric in recommendation systems. It measures the ability of a model to recommend relevant items by considering the proportion of relevant items that are successfully retrieved in the top-k recommendations.\n",
        "\n",
        "For each user $𝒖$,\n",
        "\n",
        "- Let $P_u$ be a set of positive items the user will interact.\n",
        "- Let $R_u$ be a set of items recommended by the model.\n",
        "\n",
        "Then, the formula for recall@k for user $𝒖$ is the following:\n",
        "\n",
        "$$Recall@K = \\frac{P_u \\cap R_u}{P_u}$$\n",
        "\n",
        "Then, the final Recall@𝐾 is computed by averaging the recall values across all users."
      ]
    },
    {
      "cell_type": "code",
      "execution_count": 68,
      "metadata": {
        "id": "oHuXurG8mezC"
      },
      "outputs": [],
      "source": [
        "def evaluate_on_test(user_embeddings, item_embeddings, total_users, total_items, test_data, train_data, top_k):\n",
        "\n",
        "    # Calculate the relevance score for all user-item pairs\n",
        "    relevance_score = torch.matmul(user_embeddings, torch.transpose(item_embeddings, 0, 1))\n",
        "\n",
        "    # Create a dense tensor of all user-item interactions\n",
        "    indices = torch.stack((torch.LongTensor(train_data['user_id_idx'].values),\n",
        "                     torch.LongTensor(train_data['item_id_idx'].values)))\n",
        "\n",
        "    values = torch.ones((len(train_data)), dtype=torch.float64)\n",
        "    interactions_tensor = torch.sparse_coo_tensor(indices, values, (total_users, total_items)).to_dense().to(device)\n",
        "\n",
        "    # Mask out training user-item interactions from metric computation\n",
        "    relevance_score = torch.mul(relevance_score, (1 - interactions_tensor))\n",
        "\n",
        "    # Compute top scoring items for each user\n",
        "    top_k_indices = torch.topk(relevance_score, top_k).indices\n",
        "    top_k_indices_df = pd.DataFrame(top_k_indices.cpu().numpy(),\n",
        "                                             columns =['top_' + str(k + 1) for k in range(top_k)])\n",
        "    top_k_indices_df['id'] = top_k_indices_df.index\n",
        "    top_k_indices_df['top_items'] = top_k_indices_df[['top_' + str(k + 1) for k in range(top_k)]].values.tolist()\n",
        "    top_k_indices_df = top_k_indices_df[['id','top_items']]\n",
        "\n",
        "    # Measure overlap between top-recommended and held-out user-item interactions\n",
        "    test_items = test_data.groupby('user_id_idx')['item_id_idx'].apply(list).reset_index()\n",
        "    metrics_df = pd.merge(test_items, top_k_indices_df, how='left', left_on='user_id_idx', right_on='id')\n",
        "    metrics_df['intersection'] = [list(set(a).intersection(b)) for a, b in zip(metrics_df['item_id_idx'], metrics_df['top_items'])]\n",
        "\n",
        "    # Compute recall\n",
        "    metrics_df['recall'] = metrics_df.apply(lambda x: len(x['intersection']) / len(x['item_id_idx']), axis=1)\n",
        "    recall = metrics_df['recall'].mean()\n",
        "    return recall"
      ]
    },
    {
      "cell_type": "markdown",
      "metadata": {
        "id": "_qOC3fF9m6cH"
      },
      "source": [
        "## Train and test the model\n",
        "\n",
        "Below is the code for training and evaluating the model. We use the Adam optimizer with a learning rate of $0.0005$ and a weight decay of $0.0001$. We train the model for $300$ epochs with a batch size of $1024$. Moreover, the value of $K$ is set to 20 representing the top-k items considered for the recall metric."
      ]
    },
    {
      "cell_type": "code",
      "execution_count": 69,
      "metadata": {
        "id": "5R5bvASB_7kN"
      },
      "outputs": [],
      "source": [
        "latent_dim = 128\n",
        "num_layers = 3\n",
        "\n",
        "num_epochs = 300\n",
        "lr = 0.0005\n",
        "batch_size = 1024\n",
        "decay = 0.0001\n",
        "K = 20\n",
        "\n",
        "model = RecSys(latent_dim, num_layers, num_users, num_items)\n",
        "model = model.to(device)\n",
        "\n",
        "optimizer = torch.optim.Adam(model.parameters(), lr=lr)"
      ]
    },
    {
      "cell_type": "code",
      "execution_count": 70,
      "metadata": {
        "id": "B5HB_FX5pdgv"
      },
      "outputs": [],
      "source": [
        "def train_and_eval(model, optimizer):\n",
        "    result_total_losses, result_bpr_losses, result_reg_losses = [], [], []\n",
        "    eval_recalls = []\n",
        "\n",
        "    for _ in tqdm(range(num_epochs)):\n",
        "        # Set model to training phase\n",
        "        model.train()\n",
        "\n",
        "        total_losses, bpr_losses, reg_losses = [], [], []\n",
        "        b = int(len(train) / batch_size)\n",
        "        for _ in range(b):\n",
        "\n",
        "            # Sample a minibatch of users, positive items, and negative items\n",
        "            users, positive, negative = sample_minibatch(train_ds, batch_size,\n",
        "                                                           num_users, num_items)\n",
        "            # Encode the minibatch and compute the BPR loss\n",
        "            users_embed, pos_embed, neg_embed, \\\n",
        "            users_init_embed,  pos_init_embed, neg_init_embed = model.encode(users, positive, negative,\n",
        "                                                                             edge_index)\n",
        "\n",
        "            reg_loss, bpr_loss = get_bpr_loss(users, users_embed, pos_embed, neg_embed,\n",
        "                                                  users_init_embed,  pos_init_embed, neg_init_embed)\n",
        "            reg_loss = decay * reg_loss\n",
        "            total_loss = bpr_loss + reg_loss\n",
        "\n",
        "            # Backpropagation and optimization step\n",
        "            total_loss.backward()\n",
        "            optimizer.step()\n",
        "            optimizer.zero_grad()\n",
        "\n",
        "            total_losses.append(total_loss.item())\n",
        "            bpr_losses.append(bpr_loss.item())\n",
        "            reg_losses.append(reg_loss.item())\n",
        "\n",
        "        # Set model to evaluation phase\n",
        "        model.eval()\n",
        "        with torch.no_grad():\n",
        "            _, out = model(edge_index)\n",
        "            users_embed, items_embed = torch.split(out, (num_users, num_items))\n",
        "\n",
        "            # Compute the recall metric on the test dataset\n",
        "            eval_recall = evaluate_on_test(users_embed, items_embed,\n",
        "                                         num_users, num_items, test_ds, train_ds, K)\n",
        "\n",
        "        # Save the results of training losses and recall scores on test evaluation\n",
        "        result_total_losses.append(np.mean(total_losses))\n",
        "        result_bpr_losses.append(np.mean(bpr_losses))\n",
        "        result_reg_losses.append(np.mean(reg_losses))\n",
        "        eval_recalls.append(eval_recall)\n",
        "\n",
        "    return (result_total_losses, result_bpr_losses,\n",
        "            result_reg_losses, eval_recalls)"
      ]
    },
    {
      "cell_type": "code",
      "execution_count": 71,
      "metadata": {
        "colab": {
          "base_uri": "https://localhost:8080/",
          "height": 49,
          "referenced_widgets": [
            "8db72f44d5ce44758a2bfc3827bcfc0a",
            "ca49f42e1b744eac8bf6f08f8cc3007c",
            "57f4c462f120408eb8fb4f0b627523cd",
            "f8399f7d9cea4bc1892a949c163c0134",
            "421414866b7c434198b30ccbe4336a61",
            "a15d4d2dabfe494db6ceb3c30264d334",
            "1302d96865784d009f3e52bdb4cc2e7a",
            "cc4a6abec07f4d2e9e75465bba6dfbba",
            "67f37e7aeca74aa79f4227748eb397ad",
            "a5dee2a4b542453c8d689839827de5f0",
            "f83ed6eae4da418b8e49d700a8ed3b62"
          ]
        },
        "id": "iXfsuJlcy3FT",
        "outputId": "0bb763b9-c486-47a5-a371-e2e60cba0fe2"
      },
      "outputs": [
        {
          "output_type": "display_data",
          "data": {
            "text/plain": [
              "  0%|          | 0/300 [00:00<?, ?it/s]"
            ],
            "application/vnd.jupyter.widget-view+json": {
              "version_major": 2,
              "version_minor": 0,
              "model_id": "8db72f44d5ce44758a2bfc3827bcfc0a"
            }
          },
          "metadata": {}
        }
      ],
      "source": [
        "total_losses, bpr_losses, reg_losses, eval_recalls = train_and_eval(model, optimizer)"
      ]
    },
    {
      "cell_type": "markdown",
      "metadata": {
        "id": "2HYyE2feZV8B"
      },
      "source": [
        "## Plot training results"
      ]
    },
    {
      "cell_type": "code",
      "execution_count": 72,
      "metadata": {
        "colab": {
          "base_uri": "https://localhost:8080/",
          "height": 480
        },
        "id": "Z5P2Zf6yT4Uu",
        "outputId": "7c72deb0-8bf4-4c7e-cecb-36b372d97cbf"
      },
      "outputs": [
        {
          "output_type": "display_data",
          "data": {
            "text/plain": [
              "<Figure size 640x480 with 1 Axes>"
            ],
            "image/png": "[encoded data removed]"
          },
          "metadata": {}
        }
      ],
      "source": [
        "epochs = [(i+1) for i in range(num_epochs)]\n",
        "\n",
        "sns.set(style='darkgrid')\n",
        "plt.plot(epochs, total_losses, label='Total loss')\n",
        "plt.plot(epochs, bpr_losses, label='BPR loss')\n",
        "plt.plot(epochs, reg_losses, label='Reg loss')\n",
        "\n",
        "plt.xlabel('Epoch')\n",
        "plt.ylabel('Loss')\n",
        "plt.title('Losses')\n",
        "\n",
        "plt.legend()\n",
        "plt.show()"
      ]
    },
    {
      "cell_type": "markdown",
      "metadata": {
        "id": "myUn4-Sr26KT"
      },
      "source": [
        "# Model performance"
      ]
    },
    {
      "cell_type": "code",
      "execution_count": 73,
      "metadata": {
        "colab": {
          "base_uri": "https://localhost:8080/",
          "height": 480
        },
        "id": "I1Quk5mahJ1n",
        "outputId": "fd9fe855-0683-46fd-d9da-026cb0373d17"
      },
      "outputs": [
        {
          "output_type": "display_data",
          "data": {
            "text/plain": [
              "<Figure size 640x480 with 1 Axes>"
            ],
            "image/png": "[encoded data removed]"
          },
          "metadata": {}
        }
      ],
      "source": [
        "sns.set(style='darkgrid')\n",
        "plt.plot(epochs, eval_recalls, label='Recall@20', color='r')\n",
        "\n",
        "plt.xlabel('Epoch')\n",
        "plt.ylabel('Score')\n",
        "plt.title('Eval Metric: Recall@20')\n",
        "\n",
        "plt.legend()\n",
        "plt.show()"
      ]
    },
    {
      "cell_type": "code",
      "execution_count": 74,
      "metadata": {
        "colab": {
          "base_uri": "https://localhost:8080/"
        },
        "id": "6MY7QibZ6NNJ",
        "outputId": "bf80cddb-8739-4895-d609-4a839f881573"
      },
      "outputs": [
        {
          "output_type": "stream",
          "name": "stdout",
          "text": [
            "Recall@20: 0.487\n"
          ]
        }
      ],
      "source": [
        "print(f'Recall@20: {max(eval_recalls):.3f}')"
      ]
    },
    {
      "cell_type": "markdown",
      "metadata": {
        "id": "AgFWoyFEH_UL"
      },
      "source": [
        "# Make recommendations for a given user"
      ]
    },
    {
      "cell_type": "code",
      "execution_count": 75,
      "metadata": {
        "id": "eua8Iuu6br3t"
      },
      "outputs": [],
      "source": [
        "def make_prediction(user_id, model, K):\n",
        "    model.eval()\n",
        "\n",
        "    with torch.no_grad():\n",
        "        _, out = model(edge_index)\n",
        "        final_user_embed, final_item_embed = torch.split(out, (num_users, num_items))\n",
        "        user_embed = final_user_embed[user_id]\n",
        "        item_embeds = final_item_embed\n",
        "\n",
        "        scores = torch.matmul(user_embed, torch.transpose(item_embeds, 0, 1))\n",
        "        topk_scores, topk_indices = torch.topk(scores, K)\n",
        "\n",
        "        data = []\n",
        "        for i in range(len(topk_indices)):\n",
        "            item_id = topk_indices[i].cpu().numpy()\n",
        "            # Retrieve the item name by item id\n",
        "            item_name = item_names_and_ids[item_names_and_ids['item_id'] == item_id]['item'].values[0]\n",
        "            item_name = [word.capitalize() for word in item_name.split('-')]\n",
        "            item_name = \" \".join(item_name)\n",
        "\n",
        "            data.append([i+1, item_id, item_name])\n",
        "\n",
        "        # Create a DataFrame with the recommended items\n",
        "        recommendation_ds = pd.DataFrame(data, columns=['Item number', 'Item id', 'Item name'])\n",
        "\n",
        "        # Print the top K recommended items for the user\n",
        "        print(f'Top {K} recommended items for user with id: {user_id}')\n",
        "        print(recommendation_ds.to_string(index=False))"
      ]
    },
    {
      "cell_type": "code",
      "execution_count": 76,
      "metadata": {
        "colab": {
          "base_uri": "https://localhost:8080/"
        },
        "id": "aRS67hjbLoZZ",
        "outputId": "782bedb5-b28d-41a6-ff0f-39f598a03178"
      },
      "outputs": [
        {
          "output_type": "stream",
          "name": "stdout",
          "text": [
            "Top 10 recommended items for user with id: 1\n",
            " Item number Item id                                                                          Item name\n",
            "           1     424                                                      Sazerac Rye 18 Year Fall 2016\n",
            "           2     278                                             Lagavulin 12 Year 2022 Special Release\n",
            "           3      20                                            Ardbeg Traigh Bhan 19 Year 2019 Edition\n",
            "           4     251                                                                 J P Wiser S Legacy\n",
            "           5     211                                                                    Glenmorangie 18\n",
            "           6      17                                              Appleton Estate Joy Anniversary Blend\n",
            "           7     228 Heaven Hill 20 Year Heritage Collection Kentucky Straight Corn Whiskey Spring 2023\n",
            "           8     273                                            Knob Creek 15 Year Bourbon 2021 Release\n",
            "           9     161                                       Elijah Craig Barrel Proof Bourbon Batch A123\n",
            "          10     250                                                           J P Wiser S Dissertation\n"
          ]
        }
      ],
      "source": [
        "user_id = 1\n",
        "K = 10\n",
        "\n",
        "make_prediction(user_id, model, K)"
      ]
    },
    {
      "cell_type": "code",
      "execution_count": 77,
      "metadata": {
        "ExecuteTime": {
          "end_time": "2023-12-14T16:01:34.957947100Z",
          "start_time": "2023-12-14T16:01:34.354423500Z"
        },
        "colab": {
          "base_uri": "https://localhost:8080/"
        },
        "id": "hghbf_ITchyt",
        "outputId": "eace5c8d-0520-46b4-aee8-de3b0add1ca3"
      },
      "outputs": [
        {
          "output_type": "stream",
          "name": "stdout",
          "text": [
            "Top 20 recommended items for user with id: 400\n",
            " Item number Item id                                                   Item name\n",
            "           1     407                                           Redbreast 27 Year\n",
            "           2     151                    Eagle Rare 17 Year Old Bourbon Fall 2014\n",
            "           3     344                   Middle West Spirits Dark Pumpernickel Rye\n",
            "           4     237                                            Highland Park 18\n",
            "           5     161                Elijah Craig Barrel Proof Bourbon Batch A123\n",
            "           6      23 Arran The Devil S Punchbowl Chapter Iii The Fiendish Finale\n",
            "           7     467                            The Macallan Double Cask 15 Year\n",
            "           8     482                                  Uncle Nearest Master Blend\n",
            "           9     238                                       Highland Park 21 Year\n",
            "          10     494          Widow Jane The Vaults 15 Year Bourbon 2021 Release\n",
            "          11      64           Booker S Bourbon Batch 2016 01 Booker S Bluegrass\n",
            "          12     266                               Kavalan Solist Px Sherry Cask\n",
            "          13      62                           Booker S 25th Anniversary Bourbon\n",
            "          14     187                               George Dickel 17 Year Reserve\n",
            "          15      63                              Booker S Bourbon Batch 2015 01\n",
            "          16     150                        Eagle Rare 17 Year Bourbon Fall 2023\n",
            "          17     478                        Thomas H Handy Sazerac Rye Fall 2021\n",
            "          18      60                                Blood Oath Bourbon Pact No 6\n",
            "          19      45                                            Barrell Seagrass\n",
            "          20     477                        Thomas H Handy Sazerac Rye Fall 2020\n"
          ]
        }
      ],
      "source": [
        "user_id = 400\n",
        "K = 20\n",
        "\n",
        "make_prediction(user_id, model, K)"
      ]
    },
    {
      "cell_type": "markdown",
      "metadata": {
        "id": "6RNPSfjWjV25"
      },
      "source": [
        "# References\n",
        "\n",
        "[1] He, Deng et. al., “LightGCN: Simplifying and powering graph convolution network for recommendation.” Proceedings of the 43rd International ACM SIGIR Conference on Research and Development in Information Retrieval. 2020. [Online]. Available: [https://arxiv.org/pdf/2002.02126.pdf](https://arxiv.org/pdf/2002.02126.pdf)\n",
        "\n",
        "[2] Rendle, Freudenthaler, Gantner and Schmidt-Thieme, \"BPR: Bayesian Personalized Ranking from Implicit Feedback\". UAI 2009. [Online]. Available:[https://arxiv.org/ftp/arxiv/papers/1205/1205.2618.pdf](https://arxiv.org/ftp/arxiv/papers/1205/1205.2618.pdf)\n",
        "\n"
      ]
    }
  ],
  "metadata": {
    "accelerator": "GPU",
    "colab": {
      "gpuType": "T4",
      "provenance": []
    },
    "kernelspec": {
      "display_name": "Python 3 (ipykernel)",
      "language": "python",
      "name": "python3"
    },
    "language_info": {
      "codemirror_mode": {
        "name": "ipython",
        "version": 3
      },
      "file_extension": ".py",
      "mimetype": "text/x-python",
      "name": "python",
      "nbconvert_exporter": "python",
      "pygments_lexer": "ipython3",
      "version": "3.10.12"
    },
    "widgets": {
      "application/vnd.jupyter.widget-state+json": {
        "8db72f44d5ce44758a2bfc3827bcfc0a": {
          "model_module": "@jupyter-widgets/controls",
          "model_name": "HBoxModel",
          "model_module_version": "1.5.0",
          "state": {
            "_dom_classes": [],
            "_model_module": "@jupyter-widgets/controls",
            "_model_module_version": "1.5.0",
            "_model_name": "HBoxModel",
            "_view_count": null,
            "_view_module": "@jupyter-widgets/controls",
            "_view_module_version": "1.5.0",
            "_view_name": "HBoxView",
            "box_style": "",
            "children": [
              "IPY_MODEL_ca49f42e1b744eac8bf6f08f8cc3007c",
              "IPY_MODEL_57f4c462f120408eb8fb4f0b627523cd",
              "IPY_MODEL_f8399f7d9cea4bc1892a949c163c0134"
            ],
            "layout": "IPY_MODEL_421414866b7c434198b30ccbe4336a61"
          }
        },
        "ca49f42e1b744eac8bf6f08f8cc3007c": {
          "model_module": "@jupyter-widgets/controls",
          "model_name": "HTMLModel",
          "model_module_version": "1.5.0",
          "state": {
            "_dom_classes": [],
            "_model_module": "@jupyter-widgets/controls",
            "_model_module_version": "1.5.0",
            "_model_name": "HTMLModel",
            "_view_count": null,
            "_view_module": "@jupyter-widgets/controls",
            "_view_module_version": "1.5.0",
            "_view_name": "HTMLView",
            "description": "",
            "description_tooltip": null,
            "layout": "IPY_MODEL_a15d4d2dabfe494db6ceb3c30264d334",
            "placeholder": "​",
            "style": "IPY_MODEL_1302d96865784d009f3e52bdb4cc2e7a",
            "value": "100%"
          }
        },
        "57f4c462f120408eb8fb4f0b627523cd": {
          "model_module": "@jupyter-widgets/controls",
          "model_name": "FloatProgressModel",
          "model_module_version": "1.5.0",
          "state": {
            "_dom_classes": [],
            "_model_module": "@jupyter-widgets/controls",
            "_model_module_version": "1.5.0",
            "_model_name": "FloatProgressModel",
            "_view_count": null,
            "_view_module": "@jupyter-widgets/controls",
            "_view_module_version": "1.5.0",
            "_view_name": "ProgressView",
            "bar_style": "success",
            "description": "",
            "description_tooltip": null,
            "layout": "IPY_MODEL_cc4a6abec07f4d2e9e75465bba6dfbba",
            "max": 300,
            "min": 0,
            "orientation": "horizontal",
            "style": "IPY_MODEL_67f37e7aeca74aa79f4227748eb397ad",
            "value": 300
          }
        },
        "f8399f7d9cea4bc1892a949c163c0134": {
          "model_module": "@jupyter-widgets/controls",
          "model_name": "HTMLModel",
          "model_module_version": "1.5.0",
          "state": {
            "_dom_classes": [],
            "_model_module": "@jupyter-widgets/controls",
            "_model_module_version": "1.5.0",
            "_model_name": "HTMLModel",
            "_view_count": null,
            "_view_module": "@jupyter-widgets/controls",
            "_view_module_version": "1.5.0",
            "_view_name": "HTMLView",
            "description": "",
            "description_tooltip": null,
            "layout": "IPY_MODEL_a5dee2a4b542453c8d689839827de5f0",
            "placeholder": "​",
            "style": "IPY_MODEL_f83ed6eae4da418b8e49d700a8ed3b62",
            "value": " 300/300 [05:42&lt;00:00,  1.03s/it]"
          }
        },
        "421414866b7c434198b30ccbe4336a61": {
          "model_module": "@jupyter-widgets/base",
          "model_name": "LayoutModel",
          "model_module_version": "1.2.0",
          "state": {
            "_model_module": "@jupyter-widgets/base",
            "_model_module_version": "1.2.0",
            "_model_name": "LayoutModel",
            "_view_count": null,
            "_view_module": "@jupyter-widgets/base",
            "_view_module_version": "1.2.0",
            "_view_name": "LayoutView",
            "align_content": null,
            "align_items": null,
            "align_self": null,
            "border": null,
            "bottom": null,
            "display": null,
            "flex": null,
            "flex_flow": null,
            "grid_area": null,
            "grid_auto_columns": null,
            "grid_auto_flow": null,
            "grid_auto_rows": null,
            "grid_column": null,
            "grid_gap": null,
            "grid_row": null,
            "grid_template_areas": null,
            "grid_template_columns": null,
            "grid_template_rows": null,
            "height": null,
            "justify_content": null,
            "justify_items": null,
            "left": null,
            "margin": null,
            "max_height": null,
            "max_width": null,
            "min_height": null,
            "min_width": null,
            "object_fit": null,
            "object_position": null,
            "order": null,
            "overflow": null,
            "overflow_x": null,
            "overflow_y": null,
            "padding": null,
            "right": null,
            "top": null,
            "visibility": null,
            "width": null
          }
        },
        "a15d4d2dabfe494db6ceb3c30264d334": {
          "model_module": "@jupyter-widgets/base",
          "model_name": "LayoutModel",
          "model_module_version": "1.2.0",
          "state": {
            "_model_module": "@jupyter-widgets/base",
            "_model_module_version": "1.2.0",
            "_model_name": "LayoutModel",
            "_view_count": null,
            "_view_module": "@jupyter-widgets/base",
            "_view_module_version": "1.2.0",
            "_view_name": "LayoutView",
            "align_content": null,
            "align_items": null,
            "align_self": null,
            "border": null,
            "bottom": null,
            "display": null,
            "flex": null,
            "flex_flow": null,
            "grid_area": null,
            "grid_auto_columns": null,
            "grid_auto_flow": null,
            "grid_auto_rows": null,
            "grid_column": null,
            "grid_gap": null,
            "grid_row": null,
            "grid_template_areas": null,
            "grid_template_columns": null,
            "grid_template_rows": null,
            "height": null,
            "justify_content": null,
            "justify_items": null,
            "left": null,
            "margin": null,
            "max_height": null,
            "max_width": null,
            "min_height": null,
            "min_width": null,
            "object_fit": null,
            "object_position": null,
            "order": null,
            "overflow": null,
            "overflow_x": null,
            "overflow_y": null,
            "padding": null,
            "right": null,
            "top": null,
            "visibility": null,
            "width": null
          }
        },
        "1302d96865784d009f3e52bdb4cc2e7a": {
          "model_module": "@jupyter-widgets/controls",
          "model_name": "DescriptionStyleModel",
          "model_module_version": "1.5.0",
          "state": {
            "_model_module": "@jupyter-widgets/controls",
            "_model_module_version": "1.5.0",
            "_model_name": "DescriptionStyleModel",
            "_view_count": null,
            "_view_module": "@jupyter-widgets/base",
            "_view_module_version": "1.2.0",
            "_view_name": "StyleView",
            "description_width": ""
          }
        },
        "cc4a6abec07f4d2e9e75465bba6dfbba": {
          "model_module": "@jupyter-widgets/base",
          "model_name": "LayoutModel",
          "model_module_version": "1.2.0",
          "state": {
            "_model_module": "@jupyter-widgets/base",
            "_model_module_version": "1.2.0",
            "_model_name": "LayoutModel",
            "_view_count": null,
            "_view_module": "@jupyter-widgets/base",
            "_view_module_version": "1.2.0",
            "_view_name": "LayoutView",
            "align_content": null,
            "align_items": null,
            "align_self": null,
            "border": null,
            "bottom": null,
            "display": null,
            "flex": null,
            "flex_flow": null,
            "grid_area": null,
            "grid_auto_columns": null,
            "grid_auto_flow": null,
            "grid_auto_rows": null,
            "grid_column": null,
            "grid_gap": null,
            "grid_row": null,
            "grid_template_areas": null,
            "grid_template_columns": null,
            "grid_template_rows": null,
            "height": null,
            "justify_content": null,
            "justify_items": null,
            "left": null,
            "margin": null,
            "max_height": null,
            "max_width": null,
            "min_height": null,
            "min_width": null,
            "object_fit": null,
            "object_position": null,
            "order": null,
            "overflow": null,
            "overflow_x": null,
            "overflow_y": null,
            "padding": null,
            "right": null,
            "top": null,
            "visibility": null,
            "width": null
          }
        },
        "67f37e7aeca74aa79f4227748eb397ad": {
          "model_module": "@jupyter-widgets/controls",
          "model_name": "ProgressStyleModel",
          "model_module_version": "1.5.0",
          "state": {
            "_model_module": "@jupyter-widgets/controls",
            "_model_module_version": "1.5.0",
            "_model_name": "ProgressStyleModel",
            "_view_count": null,
            "_view_module": "@jupyter-widgets/base",
            "_view_module_version": "1.2.0",
            "_view_name": "StyleView",
            "bar_color": null,
            "description_width": ""
          }
        },
        "a5dee2a4b542453c8d689839827de5f0": {
          "model_module": "@jupyter-widgets/base",
          "model_name": "LayoutModel",
          "model_module_version": "1.2.0",
          "state": {
            "_model_module": "@jupyter-widgets/base",
            "_model_module_version": "1.2.0",
            "_model_name": "LayoutModel",
            "_view_count": null,
            "_view_module": "@jupyter-widgets/base",
            "_view_module_version": "1.2.0",
            "_view_name": "LayoutView",
            "align_content": null,
            "align_items": null,
            "align_self": null,
            "border": null,
            "bottom": null,
            "display": null,
            "flex": null,
            "flex_flow": null,
            "grid_area": null,
            "grid_auto_columns": null,
            "grid_auto_flow": null,
            "grid_auto_rows": null,
            "grid_column": null,
            "grid_gap": null,
            "grid_row": null,
            "grid_template_areas": null,
            "grid_template_columns": null,
            "grid_template_rows": null,
            "height": null,
            "justify_content": null,
            "justify_items": null,
            "left": null,
            "margin": null,
            "max_height": null,
            "max_width": null,
            "min_height": null,
            "min_width": null,
            "object_fit": null,
            "object_position": null,
            "order": null,
            "overflow": null,
            "overflow_x": null,
            "overflow_y": null,
            "padding": null,
            "right": null,
            "top": null,
            "visibility": null,
            "width": null
          }
        },
        "f83ed6eae4da418b8e49d700a8ed3b62": {
          "model_module": "@jupyter-widgets/controls",
          "model_name": "DescriptionStyleModel",
          "model_module_version": "1.5.0",
          "state": {
            "_model_module": "@jupyter-widgets/controls",
            "_model_module_version": "1.5.0",
            "_model_name": "DescriptionStyleModel",
            "_view_count": null,
            "_view_module": "@jupyter-widgets/base",
            "_view_module_version": "1.2.0",
            "_view_name": "StyleView",
            "description_width": ""
          }
        }
      }
    }
  },
  "nbformat": 4,
  "nbformat_minor": 0
}