{
 "cells": [
  {
   "cell_type": "code",
   "execution_count": 1,
   "metadata": {},
   "outputs": [],
   "source": [
    "import requests\n",
    "from bs4 import BeautifulSoup\n",
    "import pandas as pd"
   ]
  },
  {
   "cell_type": "code",
   "execution_count": 2,
   "metadata": {},
   "outputs": [],
   "source": [
    "df = pd.DataFrame(columns=['username', 'rum', 'rating'])"
   ]
  },
  {
   "cell_type": "code",
   "execution_count": 3,
   "metadata": {},
   "outputs": [],
   "source": [
    "base_url = \"https://distiller.com/search?official_status=official&page=\"\n",
    "review_urls = []"
   ]
  },
  {
   "cell_type": "code",
   "execution_count": 4,
   "metadata": {},
   "outputs": [
    {
     "name": "stderr",
     "output_type": "stream",
     "text": [
      "100%|██████████| 299/299 [24:29<00:00,  4.92s/it] \n"
     ]
    }
   ],
   "source": [
    "from tqdm import tqdm\n",
    "\n",
    "for page in tqdm(range(1, 300)):\n",
    "    url = base_url + str(page)\n",
    "    response = requests.get(url)\n",
    "    soup = BeautifulSoup(response.text, 'html.parser')\n",
    "    rums = soup.find('ol', class_='spirits').find_all('li', class_='spirit sugarcane-content')\n",
    "    \n",
    "    for rum in rums:\n",
    "        link = rum.find('a')['href']\n",
    "        review_urls.append(\"https://distiller.com\" + link)\n"
   ]
  },
  {
   "cell_type": "code",
   "execution_count": 5,
   "metadata": {},
   "outputs": [],
   "source": [
    "import warnings\n",
    "\n",
    "warnings.filterwarnings(\"ignore\")"
   ]
  },
  {
   "cell_type": "code",
   "execution_count": 7,
   "metadata": {},
   "outputs": [
    {
     "name": "stderr",
     "output_type": "stream",
     "text": [
      "100%|██████████| 230/230 [42:15<00:00, 11.02s/it]  \n"
     ]
    }
   ],
   "source": [
    "for url in tqdm(review_urls):\n",
    "    rum_name = url.split('/')[-1]\n",
    "    url = url + \"/tastes?page=\"\n",
    "    page_number = 1\n",
    "    while True:\n",
    "        review_url = url + str(page_number)\n",
    "        response = requests.get(review_url)\n",
    "        soup = BeautifulSoup(response.text, 'html.parser')\n",
    "        reviews = soup.find_all('div', class_='taste-content')\n",
    "        \n",
    "        if not reviews:\n",
    "            break \n",
    "        \n",
    "        for review in reviews:\n",
    "            try:\n",
    "                username = review.find('div', class_='name-details').find('a').find('h3').text.strip()\n",
    "                rating = review.find('div', class_='rating-display__value').text.strip()\n",
    "\n",
    "                # print(rum_name, username, rating)\n",
    "                \n",
    "                df = df.append({'username': username, 'rum': rum_name, 'rating': rating}, ignore_index=True)\n",
    "            except:\n",
    "                continue\n",
    "        \n",
    "        page_number += 1\n"
   ]
  },
  {
   "cell_type": "code",
   "execution_count": null,
   "metadata": {},
   "outputs": [],
   "source": [
    "from sklearn.preprocessing import LabelEncoder\n",
    "\n",
    "encoder = LabelEncoder()\n",
    "\n",
    "df['usernameID'] = encoder.fit_transform(df['username'])\n",
    "\n",
    "df['rumID'] = encoder.fit_transform(df['rum'])"
   ]
  },
  {
   "cell_type": "code",
   "execution_count": null,
   "metadata": {},
   "outputs": [],
   "source": [
    "df.to_csv('reviews.csv', index=False)"
   ]
  },
  {
   "cell_type": "code",
   "execution_count": null,
   "metadata": {},
   "outputs": [
    {
     "name": "stdout",
     "output_type": "stream",
     "text": [
      "<class 'pandas.core.frame.DataFrame'>\n",
      "RangeIndex: 11893 entries, 0 to 11892\n",
      "Data columns (total 5 columns):\n",
      " #   Column      Non-Null Count  Dtype \n",
      "---  ------      --------------  ----- \n",
      " 0   username    11893 non-null  object\n",
      " 1   rum         11893 non-null  object\n",
      " 2   rating      11893 non-null  object\n",
      " 3   usernameID  11893 non-null  int64 \n",
      " 4   rumID       11893 non-null  int64 \n",
      "dtypes: int64(2), object(3)\n",
      "memory usage: 464.7+ KB\n"
     ]
    }
   ],
   "source": [
    "df.info()"
   ]
  },
  {
   "cell_type": "code",
   "execution_count": null,
   "metadata": {},
   "outputs": [],
   "source": [
    "df = pd.read_csv('reviews.csv')\n",
    "rum_counts = df.groupby('usernameID')['rumID'].count()\n",
    "usernames_to_delete = rum_counts[rum_counts < 10].index\n",
    "df = df[~df['usernameID'].isin(usernames_to_delete)]\n",
    "df = df.reset_index(drop=True)\n",
    "df['usernameID'] = df['usernameID'].rank(method='dense').astype(int)\n",
    "df['rumID'] = df['rumID'].rank(method='dense').astype(int)\n",
    "df = df.sort_values(['usernameID', 'rumID'])\n",
    "df.to_csv('reviews_final.csv', index=False)"
   ]
  },
  {
   "cell_type": "code",
   "execution_count": 8,
   "metadata": {},
   "outputs": [
    {
     "data": {
      "text/html": [
       "<div>\n",
       "<style scoped>\n",
       "    .dataframe tbody tr th:only-of-type {\n",
       "        vertical-align: middle;\n",
       "    }\n",
       "\n",
       "    .dataframe tbody tr th {\n",
       "        vertical-align: top;\n",
       "    }\n",
       "\n",
       "    .dataframe thead th {\n",
       "        text-align: right;\n",
       "    }\n",
       "</style>\n",
       "<table border=\"1\" class=\"dataframe\">\n",
       "  <thead>\n",
       "    <tr style=\"text-align: right;\">\n",
       "      <th></th>\n",
       "      <th>username</th>\n",
       "      <th>rum</th>\n",
       "      <th>rating</th>\n",
       "    </tr>\n",
       "  </thead>\n",
       "  <tbody>\n",
       "    <tr>\n",
       "      <th>0</th>\n",
       "      <td>worldwhiskies95</td>\n",
       "      <td>capovilla-liberation-pmg-rhum</td>\n",
       "      <td>5.0</td>\n",
       "    </tr>\n",
       "    <tr>\n",
       "      <th>1</th>\n",
       "      <td>EpicureMTL</td>\n",
       "      <td>capovilla-liberation-pmg-rhum</td>\n",
       "      <td>5.0</td>\n",
       "    </tr>\n",
       "    <tr>\n",
       "      <th>2</th>\n",
       "      <td>idetrinidad</td>\n",
       "      <td>capovilla-liberation-pmg-rhum</td>\n",
       "      <td>4.0</td>\n",
       "    </tr>\n",
       "    <tr>\n",
       "      <th>3</th>\n",
       "      <td>Gronqvist</td>\n",
       "      <td>capovilla-liberation-pmg-rhum</td>\n",
       "      <td>4.0</td>\n",
       "    </tr>\n",
       "    <tr>\n",
       "      <th>4</th>\n",
       "      <td>Eric-Mertens</td>\n",
       "      <td>capovilla-liberation-pmg-rhum</td>\n",
       "      <td>4.0</td>\n",
       "    </tr>\n",
       "    <tr>\n",
       "      <th>...</th>\n",
       "      <td>...</td>\n",
       "      <td>...</td>\n",
       "      <td>...</td>\n",
       "    </tr>\n",
       "    <tr>\n",
       "      <th>12242</th>\n",
       "      <td>eric24broncos</td>\n",
       "      <td>selvarey-cacao</td>\n",
       "      <td>4.0</td>\n",
       "    </tr>\n",
       "    <tr>\n",
       "      <th>12243</th>\n",
       "      <td>taylorchambers</td>\n",
       "      <td>selvarey-cacao</td>\n",
       "      <td>4.75</td>\n",
       "    </tr>\n",
       "    <tr>\n",
       "      <th>12244</th>\n",
       "      <td>JackieChen</td>\n",
       "      <td>selvarey-cacao</td>\n",
       "      <td>4.0</td>\n",
       "    </tr>\n",
       "    <tr>\n",
       "      <th>12245</th>\n",
       "      <td>whiskey_whisky_</td>\n",
       "      <td>selvarey-cacao</td>\n",
       "      <td>4.0</td>\n",
       "    </tr>\n",
       "    <tr>\n",
       "      <th>12246</th>\n",
       "      <td>K-SBarebo</td>\n",
       "      <td>selvarey-cacao</td>\n",
       "      <td>3.0</td>\n",
       "    </tr>\n",
       "  </tbody>\n",
       "</table>\n",
       "<p>12247 rows × 3 columns</p>\n",
       "</div>"
      ],
      "text/plain": [
       "              username                            rum rating\n",
       "0      worldwhiskies95  capovilla-liberation-pmg-rhum    5.0\n",
       "1           EpicureMTL  capovilla-liberation-pmg-rhum    5.0\n",
       "2          idetrinidad  capovilla-liberation-pmg-rhum    4.0\n",
       "3            Gronqvist  capovilla-liberation-pmg-rhum    4.0\n",
       "4         Eric-Mertens  capovilla-liberation-pmg-rhum    4.0\n",
       "...                ...                            ...    ...\n",
       "12242    eric24broncos                 selvarey-cacao    4.0\n",
       "12243   taylorchambers                 selvarey-cacao   4.75\n",
       "12244       JackieChen                 selvarey-cacao    4.0\n",
       "12245  whiskey_whisky_                 selvarey-cacao    4.0\n",
       "12246        K-SBarebo                 selvarey-cacao    3.0\n",
       "\n",
       "[12247 rows x 3 columns]"
      ]
     },
     "execution_count": 8,
     "metadata": {},
     "output_type": "execute_result"
    }
   ],
   "source": [
    "df"
   ]
  },
  {
   "cell_type": "code",
   "execution_count": null,
   "metadata": {},
   "outputs": [],
   "source": [
    "import pandas as pd\n",
    "\n",
    "# Group the DataFrame by the user and count the number of items liked by each user\n",
    "user_reaction_count = df.groupby('usernameID')['rumID'].count().reset_index(name='num_reviews')\n",
    "\n",
    "# Sort the DataFrame based on the count of items liked by each user in descending order\n",
    "sorted_df = user_reaction_count.sort_values(by='num_reviews', ascending=False)\n"
   ]
  },
  {
   "cell_type": "code",
   "execution_count": null,
   "metadata": {},
   "outputs": [
    {
     "data": {
      "text/html": [
       "<div>\n",
       "<style scoped>\n",
       "    .dataframe tbody tr th:only-of-type {\n",
       "        vertical-align: middle;\n",
       "    }\n",
       "\n",
       "    .dataframe tbody tr th {\n",
       "        vertical-align: top;\n",
       "    }\n",
       "\n",
       "    .dataframe thead th {\n",
       "        text-align: right;\n",
       "    }\n",
       "</style>\n",
       "<table border=\"1\" class=\"dataframe\">\n",
       "  <thead>\n",
       "    <tr style=\"text-align: right;\">\n",
       "      <th></th>\n",
       "      <th>usernameID</th>\n",
       "      <th>num_reviews</th>\n",
       "    </tr>\n",
       "  </thead>\n",
       "  <tbody>\n",
       "    <tr>\n",
       "      <th>979</th>\n",
       "      <td>979</td>\n",
       "      <td>50</td>\n",
       "    </tr>\n",
       "    <tr>\n",
       "      <th>3602</th>\n",
       "      <td>3602</td>\n",
       "      <td>41</td>\n",
       "    </tr>\n",
       "    <tr>\n",
       "      <th>657</th>\n",
       "      <td>657</td>\n",
       "      <td>38</td>\n",
       "    </tr>\n",
       "    <tr>\n",
       "      <th>1607</th>\n",
       "      <td>1607</td>\n",
       "      <td>37</td>\n",
       "    </tr>\n",
       "    <tr>\n",
       "      <th>4291</th>\n",
       "      <td>4291</td>\n",
       "      <td>36</td>\n",
       "    </tr>\n",
       "    <tr>\n",
       "      <th>...</th>\n",
       "      <td>...</td>\n",
       "      <td>...</td>\n",
       "    </tr>\n",
       "    <tr>\n",
       "      <th>4615</th>\n",
       "      <td>4615</td>\n",
       "      <td>4</td>\n",
       "    </tr>\n",
       "    <tr>\n",
       "      <th>1731</th>\n",
       "      <td>1731</td>\n",
       "      <td>4</td>\n",
       "    </tr>\n",
       "    <tr>\n",
       "      <th>1678</th>\n",
       "      <td>1678</td>\n",
       "      <td>4</td>\n",
       "    </tr>\n",
       "    <tr>\n",
       "      <th>714</th>\n",
       "      <td>714</td>\n",
       "      <td>4</td>\n",
       "    </tr>\n",
       "    <tr>\n",
       "      <th>1452</th>\n",
       "      <td>1452</td>\n",
       "      <td>4</td>\n",
       "    </tr>\n",
       "  </tbody>\n",
       "</table>\n",
       "<p>500 rows × 2 columns</p>\n",
       "</div>"
      ],
      "text/plain": [
       "      usernameID  num_reviews\n",
       "979          979           50\n",
       "3602        3602           41\n",
       "657          657           38\n",
       "1607        1607           37\n",
       "4291        4291           36\n",
       "...          ...          ...\n",
       "4615        4615            4\n",
       "1731        1731            4\n",
       "1678        1678            4\n",
       "714          714            4\n",
       "1452        1452            4\n",
       "\n",
       "[500 rows x 2 columns]"
      ]
     },
     "execution_count": 63,
     "metadata": {},
     "output_type": "execute_result"
    }
   ],
   "source": [
    "sorted_df.head(500)"
   ]
  },
  {
   "cell_type": "code",
   "execution_count": null,
   "metadata": {},
   "outputs": [],
   "source": [
    "\n",
    "# Optionally, retrieve all items liked by each user\n",
    "liked_items_by_user = df.groupby('username')['rum'].apply(list).reset_index(name='liked_items')\n"
   ]
  },
  {
   "cell_type": "code",
   "execution_count": null,
   "metadata": {},
   "outputs": [
    {
     "data": {
      "text/html": [
       "<div>\n",
       "<style scoped>\n",
       "    .dataframe tbody tr th:only-of-type {\n",
       "        vertical-align: middle;\n",
       "    }\n",
       "\n",
       "    .dataframe tbody tr th {\n",
       "        vertical-align: top;\n",
       "    }\n",
       "\n",
       "    .dataframe thead th {\n",
       "        text-align: right;\n",
       "    }\n",
       "</style>\n",
       "<table border=\"1\" class=\"dataframe\">\n",
       "  <thead>\n",
       "    <tr style=\"text-align: right;\">\n",
       "      <th></th>\n",
       "      <th>username</th>\n",
       "      <th>liked_items</th>\n",
       "    </tr>\n",
       "  </thead>\n",
       "  <tbody>\n",
       "    <tr>\n",
       "      <th>0</th>\n",
       "      <td>---------1359</td>\n",
       "      <td>[ron-zacapa-centenario-sistema-solera-23-rum]</td>\n",
       "    </tr>\n",
       "    <tr>\n",
       "      <th>1</th>\n",
       "      <td>--------1946</td>\n",
       "      <td>[chairman-s-reserve-the-forgotten-casks-rum, b...</td>\n",
       "    </tr>\n",
       "    <tr>\n",
       "      <th>2</th>\n",
       "      <td>--------374</td>\n",
       "      <td>[ron-diplomatico-reserva-exclusiva-rum, ron-za...</td>\n",
       "    </tr>\n",
       "    <tr>\n",
       "      <th>3</th>\n",
       "      <td>--------476</td>\n",
       "      <td>[arcane-extraroma-amber-rum]</td>\n",
       "    </tr>\n",
       "    <tr>\n",
       "      <th>4</th>\n",
       "      <td>-------537</td>\n",
       "      <td>[ron-diplomatico-reserva-exclusiva-rum]</td>\n",
       "    </tr>\n",
       "    <tr>\n",
       "      <th>...</th>\n",
       "      <td>...</td>\n",
       "      <td>...</td>\n",
       "    </tr>\n",
       "    <tr>\n",
       "      <th>5661</th>\n",
       "      <td>zombijosue</td>\n",
       "      <td>[ron-zacapa-centenario-sistema-solera-23-rum]</td>\n",
       "    </tr>\n",
       "    <tr>\n",
       "      <th>5662</th>\n",
       "      <td>zvanwink</td>\n",
       "      <td>[ron-diplomatico-reserva-exclusiva-rum, papa-s...</td>\n",
       "    </tr>\n",
       "    <tr>\n",
       "      <th>5663</th>\n",
       "      <td>zwdorworth</td>\n",
       "      <td>[ron-diplomatico-reserva-exclusiva-rum]</td>\n",
       "    </tr>\n",
       "    <tr>\n",
       "      <th>5664</th>\n",
       "      <td>zweird</td>\n",
       "      <td>[ron-diplomatico-reserva-exclusiva-rum, planta...</td>\n",
       "    </tr>\n",
       "    <tr>\n",
       "      <th>5665</th>\n",
       "      <td>zyoung</td>\n",
       "      <td>[plantation-xo-20th-anniversary-rum]</td>\n",
       "    </tr>\n",
       "  </tbody>\n",
       "</table>\n",
       "<p>5666 rows × 2 columns</p>\n",
       "</div>"
      ],
      "text/plain": [
       "           username                                        liked_items\n",
       "0     ---------1359      [ron-zacapa-centenario-sistema-solera-23-rum]\n",
       "1      --------1946  [chairman-s-reserve-the-forgotten-casks-rum, b...\n",
       "2       --------374  [ron-diplomatico-reserva-exclusiva-rum, ron-za...\n",
       "3       --------476                       [arcane-extraroma-amber-rum]\n",
       "4        -------537            [ron-diplomatico-reserva-exclusiva-rum]\n",
       "...             ...                                                ...\n",
       "5661     zombijosue      [ron-zacapa-centenario-sistema-solera-23-rum]\n",
       "5662       zvanwink  [ron-diplomatico-reserva-exclusiva-rum, papa-s...\n",
       "5663     zwdorworth            [ron-diplomatico-reserva-exclusiva-rum]\n",
       "5664         zweird  [ron-diplomatico-reserva-exclusiva-rum, planta...\n",
       "5665         zyoung               [plantation-xo-20th-anniversary-rum]\n",
       "\n",
       "[5666 rows x 2 columns]"
      ]
     },
     "execution_count": 65,
     "metadata": {},
     "output_type": "execute_result"
    }
   ],
   "source": [
    "liked_items_by_user"
   ]
  }
 ],
 "metadata": {
  "kernelspec": {
   "display_name": "Python 3",
   "language": "python",
   "name": "python3"
  },
  "language_info": {
   "codemirror_mode": {
    "name": "ipython",
    "version": 3
   },
   "file_extension": ".py",
   "mimetype": "text/x-python",
   "name": "python",
   "nbconvert_exporter": "python",
   "pygments_lexer": "ipython3",
   "version": "3.10.12"
  },
  "orig_nbformat": 4
 },
 "nbformat": 4,
 "nbformat_minor": 2
}
