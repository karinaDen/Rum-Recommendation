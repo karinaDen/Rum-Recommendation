{
  "cells": [
    {
      "cell_type": "markdown",
      "metadata": {
        "id": "6AlaMZCXDYgB"
      },
      "source": [
        "# Crawling the dataset"
      ]
    },
    {
      "cell_type": "code",
      "execution_count": null,
      "metadata": {
        "id": "4qphNroX6Ud3"
      },
      "outputs": [],
      "source": [
        "import pandas as pd\n",
        "import requests\n",
        "from bs4 import BeautifulSoup\n",
        "from tqdm import tqdm\n",
        "from sklearn.preprocessing import LabelEncoder\n",
        "\n",
        "import warnings\n",
        "warnings.filterwarnings(\"ignore\")"
      ]
    },
    {
      "cell_type": "code",
      "execution_count": 2,
      "metadata": {
        "colab": {
          "base_uri": "https://localhost:8080/"
        },
        "id": "wqHOmP8Q-TRb",
        "outputId": "f37a3c0c-f05a-4b8b-9d59-00bb53f4a7f4"
      },
      "outputs": [
        {
          "name": "stderr",
          "output_type": "stream",
          "text": [
            "100%|██████████| 85/85 [06:02<00:00,  4.27s/it]\n"
          ]
        }
      ],
      "source": [
        "url = \"https://distiller.com/search?official_status=official&page=\"\n",
        "review_urls = []\n",
        "\n",
        "session = requests.Session()\n",
        "\n",
        "for page in tqdm(range(1, 86)):\n",
        "    page_url = url + str(page)\n",
        "    resp = session.get(page_url)\n",
        "    soup = BeautifulSoup(resp.text, 'html.parser')\n",
        "    \n",
        "    # classes of the item to scrape\n",
        "    item_classes = ['spirit whiskey-content', 'spirit sugarcane-content']\n",
        "    items = soup.find('ol', class_='spirits') \\\n",
        "                .find_all('li', class_=item_classes)\n",
        "\n",
        "    review_urls.extend([\"https://distiller.com\" + item.find('a')['href'] for item in items])\n"
      ]
    },
    {
      "cell_type": "code",
      "execution_count": 3,
      "metadata": {
        "id": "JhaR4Nbs6Ud5"
      },
      "outputs": [
        {
          "name": "stderr",
          "output_type": "stream",
          "text": [
            "100%|██████████| 581/581 [8:02:41<00:00, 49.85s/it]     \n"
          ]
        }
      ],
      "source": [
        "usernames, items, ratings = [], [], []\n",
        "\n",
        "for url in tqdm(review_urls):\n",
        "    item = url.split('/')[-1]\n",
        "    page = 1\n",
        "    while True:\n",
        "        review_url = url + \"/tastes?page=\" + str(page)\n",
        "        resp = requests.get(review_url)\n",
        "        soup = BeautifulSoup(resp.text, 'html.parser')\n",
        "        reviews = soup.find_all('div', class_='taste-content')\n",
        "\n",
        "        if not reviews:\n",
        "            break\n",
        "\n",
        "        for review in reviews:\n",
        "            try:\n",
        "                username = review.find('div', class_='name-details') \\\n",
        "                             .find('a') \\\n",
        "                             .find('h3') \\\n",
        "                             .text \\\n",
        "                             .strip()\n",
        "                             \n",
        "                usernames.append(username)\n",
        "                items.append(item)\n",
        "\n",
        "                rating = review.find('div', class_='rating-display__value') \\\n",
        "                               .text \\\n",
        "                               .strip()\n",
        "                               \n",
        "                ratings.append(rating)\n",
        "\n",
        "            except:\n",
        "                continue\n",
        "\n",
        "        page += 1\n"
      ]
    },
    {
      "cell_type": "code",
      "execution_count": 7,
      "metadata": {},
      "outputs": [],
      "source": [
        "df = pd.DataFrame({'username': usernames, 'item': items, 'rating': ratings})\n"
      ]
    },
    {
      "cell_type": "code",
      "execution_count": 8,
      "metadata": {},
      "outputs": [
        {
          "name": "stdout",
          "output_type": "stream",
          "text": [
            "<class 'pandas.core.frame.DataFrame'>\n",
            "RangeIndex: 119224 entries, 0 to 119223\n",
            "Data columns (total 3 columns):\n",
            " #   Column    Non-Null Count   Dtype \n",
            "---  ------    --------------   ----- \n",
            " 0   username  119224 non-null  object\n",
            " 1   item      119224 non-null  object\n",
            " 2   rating    119224 non-null  object\n",
            "dtypes: object(3)\n",
            "memory usage: 2.7+ MB\n"
          ]
        }
      ],
      "source": [
        "df.info()"
      ]
    },
    {
      "cell_type": "markdown",
      "metadata": {
        "id": "_CZnkJGIDhYN"
      },
      "source": [
        "## Add columns with user and item ids"
      ]
    },
    {
      "cell_type": "code",
      "execution_count": 9,
      "metadata": {
        "id": "hwihT0IK6Ud5"
      },
      "outputs": [
        {
          "data": {
            "text/html": [
              "<div>\n",
              "<style scoped>\n",
              "    .dataframe tbody tr th:only-of-type {\n",
              "        vertical-align: middle;\n",
              "    }\n",
              "\n",
              "    .dataframe tbody tr th {\n",
              "        vertical-align: top;\n",
              "    }\n",
              "\n",
              "    .dataframe thead th {\n",
              "        text-align: right;\n",
              "    }\n",
              "</style>\n",
              "<table border=\"1\" class=\"dataframe\">\n",
              "  <thead>\n",
              "    <tr style=\"text-align: right;\">\n",
              "      <th></th>\n",
              "      <th>username</th>\n",
              "      <th>item</th>\n",
              "      <th>rating</th>\n",
              "      <th>user_id</th>\n",
              "      <th>item_id</th>\n",
              "    </tr>\n",
              "  </thead>\n",
              "  <tbody>\n",
              "    <tr>\n",
              "      <th>0</th>\n",
              "      <td>whiskyBoyWheatRidge</td>\n",
              "      <td>hibiki-21-year</td>\n",
              "      <td>3.5</td>\n",
              "      <td>45397</td>\n",
              "      <td>245</td>\n",
              "    </tr>\n",
              "    <tr>\n",
              "      <th>1</th>\n",
              "      <td>jsowers</td>\n",
              "      <td>hibiki-21-year</td>\n",
              "      <td>5.0</td>\n",
              "      <td>35271</td>\n",
              "      <td>245</td>\n",
              "    </tr>\n",
              "    <tr>\n",
              "      <th>2</th>\n",
              "      <td>freakinbluechair</td>\n",
              "      <td>hibiki-21-year</td>\n",
              "      <td>3.75</td>\n",
              "      <td>31836</td>\n",
              "      <td>245</td>\n",
              "    </tr>\n",
              "    <tr>\n",
              "      <th>3</th>\n",
              "      <td>Richard-Davenport</td>\n",
              "      <td>hibiki-21-year</td>\n",
              "      <td>5.0</td>\n",
              "      <td>19375</td>\n",
              "      <td>245</td>\n",
              "    </tr>\n",
              "    <tr>\n",
              "      <th>4</th>\n",
              "      <td>winstona</td>\n",
              "      <td>hibiki-21-year</td>\n",
              "      <td>4.0</td>\n",
              "      <td>45564</td>\n",
              "      <td>245</td>\n",
              "    </tr>\n",
              "  </tbody>\n",
              "</table>\n",
              "</div>"
            ],
            "text/plain": [
              "              username            item rating  user_id  item_id\n",
              "0  whiskyBoyWheatRidge  hibiki-21-year    3.5    45397      245\n",
              "1              jsowers  hibiki-21-year    5.0    35271      245\n",
              "2     freakinbluechair  hibiki-21-year   3.75    31836      245\n",
              "3    Richard-Davenport  hibiki-21-year    5.0    19375      245\n",
              "4             winstona  hibiki-21-year    4.0    45564      245"
            ]
          },
          "execution_count": 9,
          "metadata": {},
          "output_type": "execute_result"
        }
      ],
      "source": [
        "encoder = LabelEncoder()\n",
        "df['user_id'] = encoder.fit_transform(df['username'])\n",
        "df['item_id'] = encoder.fit_transform(df['item'])\n",
        "\n",
        "df.head()"
      ]
    },
    {
      "cell_type": "code",
      "execution_count": 10,
      "metadata": {
        "id": "vIe75hkt6Ud6"
      },
      "outputs": [],
      "source": [
        "df.to_csv('reviews.csv', index=False)"
      ]
    },
    {
      "cell_type": "markdown",
      "metadata": {
        "id": "X7cpUSZcDnI3"
      },
      "source": [
        "## Filter the dataset and export the final version"
      ]
    },
    {
      "cell_type": "code",
      "execution_count": 11,
      "metadata": {
        "id": "x7_Mkmgf6Ud6"
      },
      "outputs": [],
      "source": [
        "rum_counts = df.groupby('user_id')['item_id'].count()\n",
        "usernames_to_delete = rum_counts[rum_counts < 10].index\n",
        "\n",
        "final_df = df[~df['user_id'].isin(usernames_to_delete)]\n",
        "final_df = final_df.reset_index(drop=True)\n",
        "\n",
        "final_df['user_id'] = final_df['user_id'].rank(method='dense').astype(int)\n",
        "final_df['item_id'] = final_df['item_id'].rank(method='dense').astype(int)\n",
        "\n",
        "final_df = final_df.sort_values(['user_id', 'item_id'])\n",
        "\n",
        "final_df.to_csv('reviews_final.csv', index=False)"
      ]
    },
    {
      "cell_type": "code",
      "execution_count": 12,
      "metadata": {
        "id": "qcKURou4EHOd"
      },
      "outputs": [
        {
          "name": "stdout",
          "output_type": "stream",
          "text": [
            "<class 'pandas.core.frame.DataFrame'>\n",
            "Index: 31783 entries, 27184 to 3714\n",
            "Data columns (total 5 columns):\n",
            " #   Column    Non-Null Count  Dtype \n",
            "---  ------    --------------  ----- \n",
            " 0   username  31783 non-null  object\n",
            " 1   item      31783 non-null  object\n",
            " 2   rating    31783 non-null  object\n",
            " 3   user_id   31783 non-null  int64 \n",
            " 4   item_id   31783 non-null  int64 \n",
            "dtypes: int64(2), object(3)\n",
            "memory usage: 1.5+ MB\n"
          ]
        }
      ],
      "source": [
        "final_df.info()"
      ]
    },
    {
      "cell_type": "code",
      "execution_count": 13,
      "metadata": {
        "id": "kCoJde3q6Ud6"
      },
      "outputs": [
        {
          "data": {
            "text/html": [
              "<div>\n",
              "<style scoped>\n",
              "    .dataframe tbody tr th:only-of-type {\n",
              "        vertical-align: middle;\n",
              "    }\n",
              "\n",
              "    .dataframe tbody tr th {\n",
              "        vertical-align: top;\n",
              "    }\n",
              "\n",
              "    .dataframe thead th {\n",
              "        text-align: right;\n",
              "    }\n",
              "</style>\n",
              "<table border=\"1\" class=\"dataframe\">\n",
              "  <thead>\n",
              "    <tr style=\"text-align: right;\">\n",
              "      <th></th>\n",
              "      <th>username</th>\n",
              "      <th>item</th>\n",
              "      <th>rating</th>\n",
              "      <th>user_id</th>\n",
              "      <th>item_id</th>\n",
              "    </tr>\n",
              "  </thead>\n",
              "  <tbody>\n",
              "    <tr>\n",
              "      <th>27184</th>\n",
              "      <td>00PJ00</td>\n",
              "      <td>ardbeg-corryvreckan</td>\n",
              "      <td>5.0</td>\n",
              "      <td>1</td>\n",
              "      <td>19</td>\n",
              "    </tr>\n",
              "    <tr>\n",
              "      <th>27901</th>\n",
              "      <td>00PJ00</td>\n",
              "      <td>ardbeg-uigeadail</td>\n",
              "      <td>4.0</td>\n",
              "      <td>1</td>\n",
              "      <td>22</td>\n",
              "    </tr>\n",
              "    <tr>\n",
              "      <th>23516</th>\n",
              "      <td>00PJ00</td>\n",
              "      <td>benromach-peat-smoke-2005</td>\n",
              "      <td>4.0</td>\n",
              "      <td>1</td>\n",
              "      <td>55</td>\n",
              "    </tr>\n",
              "    <tr>\n",
              "      <th>30281</th>\n",
              "      <td>00PJ00</td>\n",
              "      <td>elijah-craig-12</td>\n",
              "      <td>4.25</td>\n",
              "      <td>1</td>\n",
              "      <td>155</td>\n",
              "    </tr>\n",
              "    <tr>\n",
              "      <th>23001</th>\n",
              "      <td>00PJ00</td>\n",
              "      <td>gooderham-worts-four-grain-canadian-whisky</td>\n",
              "      <td>4.75</td>\n",
              "      <td>1</td>\n",
              "      <td>217</td>\n",
              "    </tr>\n",
              "    <tr>\n",
              "      <th>...</th>\n",
              "      <td>...</td>\n",
              "      <td>...</td>\n",
              "      <td>...</td>\n",
              "      <td>...</td>\n",
              "      <td>...</td>\n",
              "    </tr>\n",
              "    <tr>\n",
              "      <th>10186</th>\n",
              "      <td>zx636jb</td>\n",
              "      <td>knob-creek-limited-edition-2001</td>\n",
              "      <td>5.0</td>\n",
              "      <td>1713</td>\n",
              "      <td>275</td>\n",
              "    </tr>\n",
              "    <tr>\n",
              "      <th>10190</th>\n",
              "      <td>zx636jb</td>\n",
              "      <td>knob-creek-limited-edition-2001</td>\n",
              "      <td>4.25</td>\n",
              "      <td>1713</td>\n",
              "      <td>275</td>\n",
              "    </tr>\n",
              "    <tr>\n",
              "      <th>24386</th>\n",
              "      <td>zx636jb</td>\n",
              "      <td>w-l-weller-12</td>\n",
              "      <td>5.0</td>\n",
              "      <td>1713</td>\n",
              "      <td>484</td>\n",
              "    </tr>\n",
              "    <tr>\n",
              "      <th>1136</th>\n",
              "      <td>zx636jb</td>\n",
              "      <td>william-larue-weller-bourbon-fall-2015</td>\n",
              "      <td>5.0</td>\n",
              "      <td>1713</td>\n",
              "      <td>502</td>\n",
              "    </tr>\n",
              "    <tr>\n",
              "      <th>3714</th>\n",
              "      <td>zx636jb</td>\n",
              "      <td>william-larue-weller-fall-2018</td>\n",
              "      <td>4.5</td>\n",
              "      <td>1713</td>\n",
              "      <td>506</td>\n",
              "    </tr>\n",
              "  </tbody>\n",
              "</table>\n",
              "<p>31783 rows × 5 columns</p>\n",
              "</div>"
            ],
            "text/plain": [
              "      username                                        item rating  user_id  \\\n",
              "27184   00PJ00                         ardbeg-corryvreckan    5.0        1   \n",
              "27901   00PJ00                            ardbeg-uigeadail    4.0        1   \n",
              "23516   00PJ00                   benromach-peat-smoke-2005    4.0        1   \n",
              "30281   00PJ00                             elijah-craig-12   4.25        1   \n",
              "23001   00PJ00  gooderham-worts-four-grain-canadian-whisky   4.75        1   \n",
              "...        ...                                         ...    ...      ...   \n",
              "10186  zx636jb             knob-creek-limited-edition-2001    5.0     1713   \n",
              "10190  zx636jb             knob-creek-limited-edition-2001   4.25     1713   \n",
              "24386  zx636jb                               w-l-weller-12    5.0     1713   \n",
              "1136   zx636jb      william-larue-weller-bourbon-fall-2015    5.0     1713   \n",
              "3714   zx636jb              william-larue-weller-fall-2018    4.5     1713   \n",
              "\n",
              "       item_id  \n",
              "27184       19  \n",
              "27901       22  \n",
              "23516       55  \n",
              "30281      155  \n",
              "23001      217  \n",
              "...        ...  \n",
              "10186      275  \n",
              "10190      275  \n",
              "24386      484  \n",
              "1136       502  \n",
              "3714       506  \n",
              "\n",
              "[31783 rows x 5 columns]"
            ]
          },
          "execution_count": 13,
          "metadata": {},
          "output_type": "execute_result"
        }
      ],
      "source": [
        "final_df"
      ]
    },
    {
      "cell_type": "code",
      "execution_count": null,
      "metadata": {},
      "outputs": [],
      "source": []
    }
  ],
  "metadata": {
    "colab": {
      "provenance": []
    },
    "kernelspec": {
      "display_name": "Python 3",
      "name": "python3"
    },
    "language_info": {
      "codemirror_mode": {
        "name": "ipython",
        "version": 3
      },
      "file_extension": ".py",
      "mimetype": "text/x-python",
      "name": "python",
      "nbconvert_exporter": "python",
      "pygments_lexer": "ipython3",
      "version": "3.9.6"
    },
    "orig_nbformat": 4
  },
  "nbformat": 4,
  "nbformat_minor": 0
}
